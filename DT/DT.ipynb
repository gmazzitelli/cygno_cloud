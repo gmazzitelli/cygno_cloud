{
 "cells": [
  {
   "cell_type": "markdown",
   "id": "52ab1d13-b921-41d8-aeec-e43c889255fa",
   "metadata": {
    "tags": []
   },
   "source": [
    "### esempio di lettura di un run di dati (6061) e uno di piedistalli (6060)\n"
   ]
  },
  {
   "cell_type": "code",
   "execution_count": 1,
   "id": "973a275a-53e1-4125-8c28-6950c8639753",
   "metadata": {},
   "outputs": [],
   "source": [
    "import midas.file_reader\n",
    "from datetime import datetime\n",
    "import numpy as np\n",
    "from matplotlib import pyplot as plt\n",
    "import cygno as cy\n",
    "import time\n",
    "import pandas as pd"
   ]
  },
  {
   "cell_type": "markdown",
   "id": "c85e48f0-33ee-41fb-9e6a-0d4f249053f6",
   "metadata": {},
   "source": [
    "lettura info file dati:"
   ]
  },
  {
   "cell_type": "markdown",
   "id": "3fe4c0fc-0c63-439b-ae32-3360f49fe20b",
   "metadata": {},
   "source": [
    "lettura file dati, WARING: path e' dove si trova il file, cloud=False dice che il file vine letto in posix (quindi se si e' gia' sulla cloud va lasciato cosi) da remoto va messo cloud=True e il path diventa il luogo in cui il file vine scaricato e letto, se viene richimato lo stesso file dal path questo non vine piu' scaricato ma solamente letto "
   ]
  },
  {
   "cell_type": "markdown",
   "id": "7df04715-610e-4515-8857-8699a0aa857d",
   "metadata": {},
   "source": [
    "legge le waveforms (fino alla 5 perche' 5 ne acquisimo) e ne fa un plot"
   ]
  },
  {
   "cell_type": "markdown",
   "id": "fd24dcb8-d782-43da-8f24-ddf0d84cdeea",
   "metadata": {},
   "source": [
    "fa il plot dell'ultima imagine aperta (matrice image)"
   ]
  },
  {
   "cell_type": "code",
   "execution_count": 2,
   "id": "38b50893-3ab3-4464-9288-e3f69574fab5",
   "metadata": {},
   "outputs": [],
   "source": [
    "number_of_w_readed= 9\n",
    "def graficiveloci(full_header,number_of_w_readed):\n",
    "    if full_header[0][0]==1:\n",
    "        singleplot =True\n",
    "    else:\n",
    "        singleplot= False\n",
    "    fig, ax = plt.subplots(full_header[0][0], number_of_w_readed, figsize=(18, 3))\n",
    "\n",
    "    for t in range(0, full_header[0][0]):\n",
    "        offset = t*full_header[1][0]\n",
    "        for w in range(0, number_of_w_readed):\n",
    "            if singleplot:\n",
    "                ax[w].plot(np.linspace(0, full_header[2][0], full_header[2][0]), w_fast[offset], label=\"t: {:d} w{:d}\".format(t,w))\n",
    "            else:\n",
    "                ax[t,w].plot(np.linspace(0, full_header[2][0], full_header[2][0]), w_fast[offset], label=\"t: {:d} w{:d}\".format(t,w))\n",
    "            #ax[t,w].legend()\n",
    "            offset+=1\n",
    "number_of_w_readed2 = 8\n",
    "def graficilentii(full_header,number_of_w_readed):\n",
    "    if full_header[0][0]==1:\n",
    "        singleplot =True\n",
    "    else:\n",
    "        singleplot= False\n",
    "    fig, ax = plt.subplots(full_header[0][1], number_of_w_readed, figsize=(18, 3))\n",
    "\n",
    "    for t in range(0, full_header[0][1]):\n",
    "        offset = t*full_header[1][1]\n",
    "        for w in range(0, number_of_w_readed):\n",
    "            if singleplot:\n",
    "                ax[w].plot(np.linspace(0, full_header[2][1], full_header[2][1]), w_slow[offset], label=\"t: {:d} w{:d}\".format(t,w))\n",
    "                #plt.ylim(0,2500)\n",
    "            else:\n",
    "                ax[t,w].plot(np.linspace(0, full_header[2][1], full_header[2][1]), w_slow[offset], label=\"t: {:d} w{:d}\".format(t,w))\n",
    "                 #plt.ylim(0,2500)\n",
    "        #ax[t,w].legend()\n",
    "            offset+=1"
   ]
  },
  {
   "cell_type": "code",
   "execution_count": 4,
   "id": "fdaca39f-cbe4-4023-a6a4-af3b5d2cacd6",
   "metadata": {},
   "outputs": [
    {
     "name": "stdout",
     "output_type": "stream",
     "text": [
      "Saw a special event\n",
      "Event # 0 of type ID 3 contains banks DMND, MSRD, CRNT, STAT, TPTR\n",
      "Received event with timestamp 1708000052 containing banks DMND, MSRD, CRNT, STAT, TPTR\n",
      "2024-02-15 12:27:32, banks DMND, MSRD, CRNT, STAT, TPTR\n",
      "Event # 0 of type ID 4 contains banks DMND, MSRD, CRNT, STAT, TPTR\n",
      "Received event with timestamp 1708000052 containing banks DMND, MSRD, CRNT, STAT, TPTR\n",
      "2024-02-15 12:27:32, banks DMND, MSRD, CRNT, STAT, TPTR\n",
      "Event # 0 of type ID 6 contains banks DMND, MSRD\n",
      "Received event with timestamp 1708000052 containing banks DMND, MSRD\n",
      "2024-02-15 12:27:32, banks DMND, MSRD\n",
      "Event # 122 of type ID 8 contains banks TMOD\n",
      "Received event with timestamp 1708000053 containing banks TMOD\n",
      "2024-02-15 12:27:33, banks TMOD\n",
      "Event # 0 of type ID 1 contains banks DIG0, DGH0, CAM0\n",
      "Received event with timestamp 1708000052 containing banks DIG0, DGH0, CAM0\n",
      "2024-02-15 12:27:32, banks DIG0, DGH0, CAM0\n",
      "<cygno.dgtz_header object at 0x7f2a54c90240>\n",
      "Event # 0 of type ID 7 contains banks TCAM\n",
      "Received event with timestamp 1708000054 containing banks TCAM\n",
      "2024-02-15 12:27:34, banks TCAM\n",
      "Event # 1 of type ID 1 contains banks DIG0, DGH0, CAM0\n",
      "Received event with timestamp 1708000054 containing banks DIG0, DGH0, CAM0\n",
      "2024-02-15 12:27:34, banks DIG0, DGH0, CAM0\n",
      "<cygno.dgtz_header object at 0x7f2a5472eef0>\n",
      "Event # 2 of type ID 1 contains banks DIG0, DGH0, CAM0\n",
      "Received event with timestamp 1708000054 containing banks DIG0, DGH0, CAM0\n",
      "2024-02-15 12:27:34, banks DIG0, DGH0, CAM0\n",
      "<cygno.dgtz_header object at 0x7f2a471b6fd0>\n",
      "Event # 3 of type ID 1 contains banks DIG0, DGH0, CAM0\n",
      "Received event with timestamp 1708000055 containing banks DIG0, DGH0, CAM0\n",
      "2024-02-15 12:27:35, banks DIG0, DGH0, CAM0\n",
      "<cygno.dgtz_header object at 0x7f2a54c90240>\n",
      "Event # 4 of type ID 1 contains banks DIG0, DGH0, CAM0\n",
      "Received event with timestamp 1708000056 containing banks DIG0, DGH0, CAM0\n",
      "2024-02-15 12:27:36, banks DIG0, DGH0, CAM0\n",
      "<cygno.dgtz_header object at 0x7f2a4f6f0cc0>\n",
      "Event # 0 of type ID 8 contains banks TMOD\n",
      "Received event with timestamp 1708000057 containing banks TMOD\n",
      "2024-02-15 12:27:37, banks TMOD\n",
      "Event # 5 of type ID 1 contains banks DIG0, DGH0, CAM0\n",
      "Received event with timestamp 1708000056 containing banks DIG0, DGH0, CAM0\n",
      "2024-02-15 12:27:36, banks DIG0, DGH0, CAM0\n",
      "<cygno.dgtz_header object at 0x7f2a4be42b70>\n",
      "Event # 6 of type ID 1 contains banks DIG0, DGH0, CAM0\n",
      "Received event with timestamp 1708000057 containing banks DIG0, DGH0, CAM0\n",
      "2024-02-15 12:27:37, banks DIG0, DGH0, CAM0\n",
      "<cygno.dgtz_header object at 0x7f2a5472eef0>\n",
      "Event # 7 of type ID 1 contains banks DIG0, DGH0, CAM0\n",
      "Received event with timestamp 1708000058 containing banks DIG0, DGH0, CAM0\n",
      "2024-02-15 12:27:38, banks DIG0, DGH0, CAM0\n",
      "<cygno.dgtz_header object at 0x7f2a4f6f0cc0>\n",
      "Event # 8 of type ID 1 contains banks DIG0, DGH0, CAM0\n",
      "Received event with timestamp 1708000058 containing banks DIG0, DGH0, CAM0\n",
      "2024-02-15 12:27:38, banks DIG0, DGH0, CAM0\n",
      "<cygno.dgtz_header object at 0x7f2a4be42b70>\n",
      "Event # 9 of type ID 1 contains banks DIG0, DGH0, CAM0\n",
      "Received event with timestamp 1708000059 containing banks DIG0, DGH0, CAM0\n",
      "2024-02-15 12:27:39, banks DIG0, DGH0, CAM0\n",
      "<cygno.dgtz_header object at 0x7f2a54871668>\n",
      "Event # 10 of type ID 1 contains banks DIG0, DGH0, CAM0\n",
      "Received event with timestamp 1708000060 containing banks DIG0, DGH0, CAM0\n",
      "2024-02-15 12:27:40, banks DIG0, DGH0, CAM0\n",
      "<cygno.dgtz_header object at 0x7f2a4f6f5ef0>\n",
      "Event # 11 of type ID 1 contains banks DIG0, DGH0, CAM0\n",
      "Received event with timestamp 1708000061 containing banks DIG0, DGH0, CAM0\n",
      "2024-02-15 12:27:41, banks DIG0, DGH0, CAM0\n",
      "<cygno.dgtz_header object at 0x7f2a4be42b70>\n",
      "Event # 12 of type ID 1 contains banks DIG0, DGH0, CAM0\n",
      "Received event with timestamp 1708000061 containing banks DIG0, DGH0, CAM0\n",
      "2024-02-15 12:27:41, banks DIG0, DGH0, CAM0\n",
      "<cygno.dgtz_header object at 0x7f2a54cd5ef0>\n",
      "Event # 13 of type ID 1 contains banks DIG0, DGH0, CAM0\n",
      "Received event with timestamp 1708000062 containing banks DIG0, DGH0, CAM0\n",
      "2024-02-15 12:27:42, banks DIG0, DGH0, CAM0\n",
      "<cygno.dgtz_header object at 0x7f2a54c90240>\n",
      "Event # 14 of type ID 1 contains banks DIG0, DGH0, CAM0\n",
      "Received event with timestamp 1708000063 containing banks DIG0, DGH0, CAM0\n",
      "2024-02-15 12:27:43, banks DIG0, DGH0, CAM0\n",
      "<cygno.dgtz_header object at 0x7f2b036f1be0>\n",
      "Event # 15 of type ID 1 contains banks DIG0, DGH0, CAM0\n",
      "Received event with timestamp 1708000063 containing banks DIG0, DGH0, CAM0\n",
      "2024-02-15 12:27:43, banks DIG0, DGH0, CAM0\n",
      "<cygno.dgtz_header object at 0x7f2af4b893c8>\n",
      "Event # 1 of type ID 7 contains banks TCAM\n",
      "Received event with timestamp 1708000064 containing banks TCAM\n",
      "2024-02-15 12:27:44, banks TCAM\n",
      "Event # 16 of type ID 1 contains banks DIG0, DGH0, CAM0\n",
      "Received event with timestamp 1708000064 containing banks DIG0, DGH0, CAM0\n",
      "2024-02-15 12:27:44, banks DIG0, DGH0, CAM0\n",
      "<cygno.dgtz_header object at 0x7f2a5472eef0>\n",
      "Event # 17 of type ID 1 contains banks DIG0, DGH0, CAM0\n",
      "Received event with timestamp 1708000065 containing banks DIG0, DGH0, CAM0\n",
      "2024-02-15 12:27:45, banks DIG0, DGH0, CAM0\n",
      "<cygno.dgtz_header object at 0x7f2a4f6f5ef0>\n",
      "Event # 18 of type ID 1 contains banks DIG0, DGH0, CAM0\n",
      "Received event with timestamp 1708000066 containing banks DIG0, DGH0, CAM0\n",
      "2024-02-15 12:27:46, banks DIG0, DGH0, CAM0\n",
      "<cygno.dgtz_header object at 0x7f2af4b893c8>\n",
      "Event # 1 of type ID 8 contains banks TMOD\n",
      "Received event with timestamp 1708000067 containing banks TMOD\n",
      "2024-02-15 12:27:47, banks TMOD\n",
      "Event # 19 of type ID 1 contains banks DIG0, DGH0, CAM0\n",
      "Received event with timestamp 1708000066 containing banks DIG0, DGH0, CAM0\n",
      "2024-02-15 12:27:46, banks DIG0, DGH0, CAM0\n",
      "<cygno.dgtz_header object at 0x7f2adcf15ef0>\n",
      "Event # 20 of type ID 1 contains banks DIG0, DGH0, CAM0\n",
      "Received event with timestamp 1708000067 containing banks DIG0, DGH0, CAM0\n",
      "2024-02-15 12:27:47, banks DIG0, DGH0, CAM0\n",
      "<cygno.dgtz_header object at 0x7f2adcf15dd8>\n"
     ]
    }
   ],
   "source": [
    "verbose = False\n",
    "outplot = True\n",
    "#mfile = cy.open_mid(run=10044, path='/s3/cygno-data/', cloud=False, tag='LNF', verbose=verbose)\n",
    "mfile = cy.open_mid(run=47982, path='/s3/cygno-data/', cloud=False, tag='LNGS', verbose=verbose)\n",
    "odb = cy.get_bor_odb(mfile)\n",
    "corrected  = odb.data['Configurations']['DRS4Correction']\n",
    "channels_offsets  = odb.data['Configurations']['DigitizerOffset']\n",
    "header_environment = odb.data['Equipment']['Environment']['Settings']['Names Input']\n",
    "dslow = pd.DataFrame(columns = header_environment)\n",
    "\n",
    "for event in mfile:\n",
    "    if event.header.is_midas_internal_event():\n",
    "        print(\"Saw a special event\")\n",
    "        continue\n",
    "\n",
    "    bank_names = \", \".join(b.name for b in event.banks.values())\n",
    "    print(\"Event # %s of type ID %s contains banks %s\" % (event.header.serial_number, event.header.event_id, bank_names))\n",
    "    print(\"Received event with timestamp %s containing banks %s\" % (event.header.timestamp, bank_names))\n",
    "    print(\"%s, banks %s\" % (datetime.utcfromtimestamp(event.header.timestamp).strftime('%Y-%m-%d %H:%M:%S'), bank_names))\n",
    "\n",
    "    for bank_name, bank in event.banks.items():\n",
    "            \n",
    "        if ('DGH0' in bank_name): # PMTs wavform \n",
    "            full_header= cy.daq_dgz_full2header(event.banks['DGH0'], verbose=verbose)\n",
    "            print (full_header)\n",
    "        #     w_fast, w_slow = cy.daq_dgz_full2array(event.banks['DIG0'], full_header, verbose=verbose, \n",
    "        #                                            corrected=corrected, ch_offset=channels_offsets)\n",
    "        #     if outplot:\n",
    "        #         graficiveloci(full_header,number_of_w_readed)\n",
    "        #         plt.show()\n",
    "        #         graficilentii(full_header,number_of_w_readed2)\n",
    "        #         plt.show()\n",
    "        # if bank_name=='CAM0': # CAM image\n",
    "        #     image, _, _ = cy.daq_cam2array(bank) # matrice delle imagine\n",
    "        #     if outplot:\n",
    "        #         plt.figure(figsize=(8,8))\n",
    "        #         plt.imshow(image, vmin=95, vmax=120)\n",
    "        #         plt.show()\n",
    "        # if bank_name=='INPT': # SLOW channels array\n",
    "        #     slow = cy.daq_slow2array(bank)\n",
    "        #     dslow.loc[len(dslow)] = slow\n",
    "        #     print(dslow)\n",
    "    if event.header.serial_number == 20: \n",
    "        break"
   ]
  },
  {
   "cell_type": "code",
   "execution_count": 7,
   "id": "5c1d009b-60ea-4664-b02e-5058796a7a90",
   "metadata": {},
   "outputs": [
    {
     "name": "stdout",
     "output_type": "stream",
     "text": [
      "{'0': array([25, 25]), '1': array([32,  8]), '2': array([1024, 4000]), '3': array([4096, 4096]), '4': array([1333,  250]), '5': [array([    0, 13107, 13107, 13107, 13107, 13107, 13107, 13107, 32768,\n",
      "       32768, 32768, 32768, 32768, 32768, 32768, 32768, 32768, 32768,\n",
      "       32768, 32768, 32768, 32768, 32768, 32768, 32768, 32768, 32768,\n",
      "       32768, 32768, 32768, 32768, 32768]), array([ 3276, 32768, 32768, 32768, 32768, 32768, 32768, 32768])], '6': [array([ 1969848,  3864422,  5991878,  9505384, 15713408, 16926674,\n",
      "       20340698, 26511196, 28658596, 30107116, 30305428, 31955382,\n",
      "       33283292, 33746048, 43340886, 45792842, 49255898, 50067908,\n",
      "       50717700, 51146856, 51588264, 52319496, 54134262, 55032628,\n",
      "       55771944]), array([ 2361453,  4382329,  6651611, 10399347, 17021231, 18315381,\n",
      "       21957001, 28538857, 30829411, 32374499, 32586029, 34345979,\n",
      "       35762415, 36256019, 46490501, 49105917, 52799837, 53665981,\n",
      "       54359091, 54816857, 55287693, 56067671, 58003419, 58961675,\n",
      "       59750279])], '7': [array([224, 314, 928, 327, 479, 390,  33, 660, 915, 147, 608, 826, 250,\n",
      "       480, 211, 954,  32,  96, 301, 532, 326, 532, 826, 609, 326])]}\n"
     ]
    }
   ],
   "source": [
    "print(full_header.itemDict)"
   ]
  },
  {
   "cell_type": "code",
   "execution_count": 7,
   "id": "6849dc00-5d7a-4a90-a0d2-a046d3de2e9e",
   "metadata": {},
   "outputs": [
    {
     "data": {
      "text/plain": [
       "5308416"
      ]
     },
     "execution_count": 7,
     "metadata": {},
     "output_type": "execute_result"
    }
   ],
   "source": [
    "np.size(image)"
   ]
  },
  {
   "cell_type": "code",
   "execution_count": 15,
   "id": "682e2ec3-f907-49b7-b159-7795fe897c6d",
   "metadata": {},
   "outputs": [
    {
     "data": {
      "text/plain": [
       "numpy.int64"
      ]
     },
     "execution_count": 15,
     "metadata": {},
     "output_type": "execute_result"
    }
   ],
   "source": [
    "type(image[0][0])\n"
   ]
  },
  {
   "cell_type": "code",
   "execution_count": 18,
   "id": "0feb99d2-2fd7-4136-840d-5507925408b4",
   "metadata": {},
   "outputs": [],
   "source": [
    "im2 = np.zeros((2304, 2304), dtype=np.int64)"
   ]
  },
  {
   "cell_type": "code",
   "execution_count": 19,
   "id": "cea2d79e-2c71-427b-9bff-7c30888c8eb3",
   "metadata": {},
   "outputs": [
    {
     "data": {
      "text/plain": [
       "array([[0, 0, 0, ..., 0, 0, 0],\n",
       "       [0, 0, 0, ..., 0, 0, 0],\n",
       "       [0, 0, 0, ..., 0, 0, 0],\n",
       "       ...,\n",
       "       [0, 0, 0, ..., 0, 0, 0],\n",
       "       [0, 0, 0, ..., 0, 0, 0],\n",
       "       [0, 0, 0, ..., 0, 0, 0]])"
      ]
     },
     "execution_count": 19,
     "metadata": {},
     "output_type": "execute_result"
    }
   ],
   "source": [
    "im2"
   ]
  },
  {
   "cell_type": "code",
   "execution_count": 21,
   "id": "7999f3c2-efb4-4864-b044-d4f8e2095d05",
   "metadata": {},
   "outputs": [
    {
     "data": {
      "image/png": "[encoded data removed]",
      "text/plain": [
       "<Figure size 432x288 with 1 Axes>"
      ]
     },
     "metadata": {
      "needs_background": "light"
     },
     "output_type": "display_data"
    }
   ],
   "source": [
    "plt.imshow(im2, vmin=-1, vmax=1)\n",
    "plt.show()"
   ]
  },
  {
   "cell_type": "code",
   "execution_count": null,
   "id": "177b6551-fd6e-4b1b-bf5e-4799e0ecffe4",
   "metadata": {},
   "outputs": [],
   "source": []
  }
 ],
 "metadata": {
  "kernelspec": {
   "display_name": "Python 3",
   "language": "python",
   "name": "python3"
  },
  "language_info": {
   "codemirror_mode": {
    "name": "ipython",
    "version": 3
   },
   "file_extension": ".py",
   "mimetype": "text/x-python",
   "name": "python",
   "nbconvert_exporter": "python",
   "pygments_lexer": "ipython3",
   "version": "3.6.8"
  }
 },
 "nbformat": 4,
 "nbformat_minor": 5
}
