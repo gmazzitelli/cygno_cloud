{
 "cells": [
  {
   "cell_type": "code",
   "execution_count": 105,
   "id": "c86e81d0-1988-4b04-8afc-c42e2f86e5af",
   "metadata": {},
   "outputs": [
    {
     "name": "stderr",
     "output_type": "stream",
     "text": [
      "/usr/local/lib/python3.6/site-packages/urllib3/connectionpool.py:1052: InsecureRequestWarning: Unverified HTTPS request is being made to host 'notebook.cygno.cloud.infn.it'. Adding certificate verification is strongly advised. See: https://urllib3.readthedocs.io/en/1.26.x/advanced-usage.html#ssl-warnings\n",
      "  InsecureRequestWarning,\n"
     ]
    },
    {
     "name": "stdout",
     "output_type": "stream",
     "text": [
      "analyzing run:  49957 ['Standard']\n",
      "0\n",
      "camera_mode [1] 0\n",
      "rebin [4] 0\n",
      "nsigma [0.6] 0\n",
      "min_neighbors_average [1.2] 0\n",
      "cimax [5000] 0\n",
      "pmt_mode [1] 0\n",
      "threshold [0] 0\n",
      "Board_PMT [[1 2 3 4]] 1\n",
      "height_RMS [5] 0\n",
      "minPeakDistance [1] 0\n",
      "prominence [0.1] 0\n",
      "fixed_prom [ True] 0\n",
      "width [5.] 0\n",
      "resample [5] 0\n",
      "npixx [2304] 0\n",
      "xmin [0] 0\n",
      "xmax [2304] 0\n",
      "ymin [304] 0\n",
      "ymax [2054] 0\n",
      "dbscan_eps [12.] 0\n",
      "dbscan_minsamples [20.] 0\n",
      "dir_radius [28.] 0\n",
      "dir_min_accuracy [0.95] 0\n",
      "dir_minsamples [12.] 0\n",
      "dir_thickness [6.5] 0\n",
      "time_threshold [300.] 0\n",
      "max_attempts [3.] 0\n",
      "isolation_radius [5.] 0\n",
      "{'run': 49957, 'camera_mode': array([1], dtype=int32), 'rebin': array([4], dtype=int32), 'nsigma': array([0.6], dtype=float32), 'min_neighbors_average': array([1.2], dtype=float32), 'cimax': array([5000], dtype=int32), 'pmt_mode': array([1], dtype=int32), 'threshold': array([0], dtype=int32), 'Board_PMT': 30, 'height_RMS': array([5], dtype=int32), 'minPeakDistance': array([1], dtype=int32), 'prominence': array([0.1], dtype=float32), 'fixed_prom': 1, 'width': array([5.], dtype=float32), 'resample': array([5], dtype=int32), 'npixx': array([2304], dtype=int32), 'xmin': array([0], dtype=int32), 'xmax': array([2304], dtype=int32), 'ymin': array([304], dtype=int32), 'ymax': array([2054], dtype=int32), 'dbscan_eps': array([12.], dtype=float32), 'dbscan_minsamples': array([20.], dtype=float32), 'dir_radius': array([28.], dtype=float32), 'dir_min_accuracy': array([0.95], dtype=float32), 'dir_minsamples': array([12.], dtype=float32), 'dir_thickness': array([6.5], dtype=float32), 'time_threshold': array([300.], dtype=float32), 'max_attempts': array([3.], dtype=float32), 'isolation_radius': array([5.], dtype=float32)}\n",
      "DONE\n"
     ]
    }
   ],
   "source": [
    "def alpha_rate(cut, length, xmax=40):\n",
    "#    cut = dfall.sc_integral/dfall.sc_nhits\n",
    "    nalpha = 0\n",
    "    for i in range(len(cut)):\n",
    "#        nalpha +=len(cut[i][(cut[i]>40) & (dfall.sc_length[i]>50)])\n",
    "        nalpha +=len(cut[i][(cut[i]>40) & (length[i]>50)])\n",
    "    return nalpha\n",
    "\n",
    "import numpy as np\n",
    "import uproot\n",
    "import pandas as pd\n",
    "import cygno as cy\n",
    "import os\n",
    "# variable to pass\n",
    "start_run=49957\n",
    "end_run=49958\n",
    "run_description = 'Standard'\n",
    "reco_path0 = 'Run4/'\n",
    "rebuild = False\n",
    "# debug\n",
    "verbose = False\n",
    "run_description = None\n",
    "# \n",
    "file_out_path = '/jupyter-workspace/cloud-storage/cygno-analysis/pkl2/'\n",
    "BASE_URL = 'https://s3.cloud.infn.it/v1/AUTH_2ebf769785574195bde2ff418deac08a/'\n",
    "reco_path = BASE_URL+'cygno-analysis/RECO/'+reco_path0\n",
    "try:\n",
    "    runInfo=cy.read_cygno_logbook(sql=True, tag='lngs', start_run=start_run, end_run=end_run, verbose=verbose)\n",
    "    if verbose: print(runInfo)\n",
    "except Exception as e:\n",
    "    print('ERROR >>> {}'.format(e))\n",
    "\n",
    "#runSel = runInfo.loc[runInfo.run_description.str.contains('Stability')]\n",
    "if run_description:\n",
    "    runSel = runInfo.loc[runInfo.run_description == run_description]\n",
    "else:\n",
    "    runSel = runInfo\n",
    "\n",
    "\n",
    "for i, run in enumerate(runSel.run_number):\n",
    "\n",
    "    print(\"analyzing run: \",run, str(runSel[runSel.run_number==run].run_description.values))\n",
    "\n",
    "    #\n",
    "    # caricamento o creazione del file plk\n",
    "    #\n",
    "    try:\n",
    "        branch_data = {}\n",
    "        parma_data = {}\n",
    "        file_url = reco_path+'reco_run{:5d}_3D.root'.format(run)\n",
    "        tf = uproot.open(file_url)\n",
    "        names = tf[\"Events;1\"].keys()\n",
    "\n",
    "        for i, name in enumerate(names):\n",
    "            var = tf[\"Events;1/\"+name].array(library=\"np\")\n",
    "            if var[0].ndim == 0:\n",
    "                branch_data[name] = np.hstack(var)\n",
    "            else:\n",
    "                branch_data[name] = var\n",
    "        alpha=alpha_rate(np.array(branch_data[\"sc_integral\"])/np.array(branch_data[\"sc_nhits\"]),np.array(branch_data[\"sc_length\"]), xmax=40)\n",
    "        print(alpha)\n",
    "        df = pd.DataFrame(branch_data)\n",
    "        # df.to_pickle(file_out_name, compression={'method': 'gzip', 'compresslevel': 1})\n",
    "        parma_data['run']=branch_data['run'][0] \n",
    "        names = tf[\"Reco_params;1\"].keys()\n",
    "        for i, name in enumerate(names):\n",
    "            var = tf[\"Reco_params;1/\"+name].array(library=\"np\")\n",
    "            if name=='Board_PMT':\n",
    "                c = 0\n",
    "                for i, b in enumerate(var[0]):\n",
    "                    c+=2**b\n",
    "                parma_data[name] = c\n",
    "            elif name=='fixed_prom':\n",
    "                parma_data[name] = int(var[0] ==True)\n",
    "            else:\n",
    "                parma_data[name] = var\n",
    "            print(name,var, var[0].ndim)\n",
    " \n",
    "        print(parma_data)\n",
    "            #parma_data[name]=var\n",
    "        dp = pd.DataFrame(parma_data)\n",
    "    except Exception as e:\n",
    "        print('ERROR >>> {}'.format(e))\n",
    "        continue\n",
    "\n",
    "print(\"DONE\")"
   ]
  },
  {
   "cell_type": "code",
   "execution_count": 109,
   "id": "610a78be-33c1-4335-8888-8897e456729c",
   "metadata": {},
   "outputs": [
    {
     "data": {
      "image/png": "[encoded data removed]",
      "text/plain": [
       "<Figure size 432x288 with 1 Axes>"
      ]
     },
     "metadata": {
      "needs_background": "light"
     },
     "output_type": "display_data"
    },
    {
     "data": {
      "image/png": "[encoded data removed]",
      "text/plain": [
       "<Figure size 432x288 with 1 Axes>"
      ]
     },
     "metadata": {
      "needs_background": "light"
     },
     "output_type": "display_data"
    },
    {
     "data": {
      "image/png": "[encoded data removed]",
      "text/plain": [
       "<Figure size 432x288 with 1 Axes>"
      ]
     },
     "metadata": {
      "needs_background": "light"
     },
     "output_type": "display_data"
    },
    {
     "data": {
      "image/png": "[encoded data removed]",
      "text/plain": [
       "<Figure size 432x288 with 1 Axes>"
      ]
     },
     "metadata": {
      "needs_background": "light"
     },
     "output_type": "display_data"
    }
   ],
   "source": [
    "import matplotlib.pyplot as plt\n",
    "plt.hist(np.hstack(branch_data[\"sc_integral\"]), bins=100, range=(.1e5,10e5))\n",
    "plt.show()\n",
    "plt.hist(np.hstack(branch_data[\"sc_nhits\"]), bins=100, range=(500,50000))\n",
    "plt.show()\n",
    "plt.hist(np.hstack(branch_data[\"sc_integral\"])/np.hstack(branch_data[\"sc_nhits\"]), bins=100, range=(0,100))\n",
    "plt.show()\n",
    "plt.hist(np.hstack(branch_data[\"sc_length\"]), bins=100, range=(0,100))\n",
    "plt.show()"
   ]
  },
  {
   "cell_type": "code",
   "execution_count": 101,
   "id": "5b8a9a34-38d0-4afb-81cd-4ebe596f1005",
   "metadata": {},
   "outputs": [
    {
     "data": {
      "image/png": "[encoded data removed]",
      "text/plain": [
       "<Figure size 432x288 with 1 Axes>"
      ]
     },
     "metadata": {
      "needs_background": "light"
     },
     "output_type": "display_data"
    },
    {
     "data": {
      "image/png": "[encoded data removed]",
      "text/plain": [
       "<Figure size 432x288 with 1 Axes>"
      ]
     },
     "metadata": {
      "needs_background": "light"
     },
     "output_type": "display_data"
    },
    {
     "data": {
      "image/png": "[encoded data removed]",
      "text/plain": [
       "<Figure size 432x288 with 1 Axes>"
      ]
     },
     "metadata": {
      "needs_background": "light"
     },
     "output_type": "display_data"
    }
   ],
   "source": [
    "import matplotlib.pyplot as plt\n",
    "plt.hist(np.hstack(branch_data[\"sc_integral\"]), bins=100, range=(.1e5,10e5))\n",
    "plt.show()\n",
    "plt.hist(np.hstack(branch_data[\"sc_nhits\"]), bins=100, range=(500,50000))\n",
    "plt.show()\n",
    "plt.hist(np.hstack(branch_data[\"sc_integral\"])/np.hstack(branch_data[\"sc_nhits\"]), bins=100, range=(0,100))\n",
    "plt.show()"
   ]
  },
  {
   "cell_type": "code",
   "execution_count": 54,
   "id": "9b8cf411-81e1-4d04-9853-5f6f227b78de",
   "metadata": {},
   "outputs": [
    {
     "data": {
      "text/plain": [
       "numpy.ndarray"
      ]
     },
     "execution_count": 54,
     "metadata": {},
     "output_type": "execute_result"
    }
   ],
   "source": [
    "var=tf[\"Reco_params;1/\"+'Board_PMT'].array(library=\"np\")\n",
    "type(var[0])"
   ]
  },
  {
   "cell_type": "code",
   "execution_count": 78,
   "id": "7d2536ef-d661-4319-9242-6afecde316e6",
   "metadata": {},
   "outputs": [
    {
     "data": {
      "text/plain": [
       "1"
      ]
     },
     "execution_count": 78,
     "metadata": {},
     "output_type": "execute_result"
    }
   ],
   "source": [
    "var=tf[\"Reco_params;1/\"+'fixed_prom'].array(library=\"np\")\n",
    "int(var[0]==True)"
   ]
  },
  {
   "cell_type": "code",
   "execution_count": 45,
   "id": "cc56cbf9-a941-4a1b-a042-654e228070cc",
   "metadata": {},
   "outputs": [
    {
     "data": {
      "text/plain": [
       "['camera_mode',\n",
       " 'rebin',\n",
       " 'nsigma',\n",
       " 'min_neighbors_average',\n",
       " 'cimax',\n",
       " 'pmt_mode',\n",
       " 'threshold',\n",
       " 'Board_PMT',\n",
       " 'height_RMS',\n",
       " 'minPeakDistance',\n",
       " 'prominence',\n",
       " 'fixed_prom',\n",
       " 'width',\n",
       " 'resample',\n",
       " 'npixx',\n",
       " 'xmin',\n",
       " 'xmax',\n",
       " 'ymin',\n",
       " 'ymax',\n",
       " 'dbscan_eps',\n",
       " 'dbscan_minsamples',\n",
       " 'dir_radius',\n",
       " 'dir_min_accuracy',\n",
       " 'dir_minsamples',\n",
       " 'dir_thickness',\n",
       " 'time_threshold',\n",
       " 'max_attempts',\n",
       " 'isolation_radius']"
      ]
     },
     "execution_count": 45,
     "metadata": {},
     "output_type": "execute_result"
    }
   ],
   "source": [
    "names"
   ]
  },
  {
   "cell_type": "raw",
   "id": "478f62d1-e4db-4ef0-bb22-041c49d9e4d2",
   "metadata": {},
   "source": [
    "'camera_mode',\n",
    " 'rebin',\n",
    " 'nsigma',\n",
    " 'min_neighbors_average',\n",
    " 'cimax',\n",
    " 'pmt_mode',\n",
    " 'threshold',\n",
    " 'Board_PMT',\n",
    " 'height_RMS',\n",
    " 'minPeakDistance',\n",
    " 'prominence',\n",
    " 'fixed_prom',\n",
    " 'width',\n",
    " 'resample',\n",
    " 'npixx',\n",
    " 'xmin',\n",
    " 'xmax',\n",
    " 'ymin',\n",
    " 'ymax',\n",
    " 'dbscan_eps',\n",
    " 'dbscan_minsamples',\n",
    " 'dir_radius',\n",
    " 'dir_min_accuracy',\n",
    " 'dir_minsamples',\n",
    " 'dir_thickness',\n",
    " 'time_threshold',\n",
    " 'max_attempts',\n",
    " 'isolation_radius']\n",
    "\n",
    "{'run': 49956, 'camera_mode': array([1], dtype=int32), 'rebin': array([4], dtype=int32), 'nsigma': array([0.6], dtype=float32), 'min_neighbors_average': array([1.2], dtype=float32), 'cimax': array([5000], dtype=int32), 'pmt_mode': array([1], dtype=int32), 'threshold': array([0], dtype=int32), 'Board_PMT': array([1, 2, 3, 4], dtype=int32), 'height_RMS': array([5], dtype=int32), 'minPeakDistance': array([1], dtype=int32), 'prominence': array([0.1], dtype=float32), 'fixed_prom': array([ True]), 'width': array([5.], dtype=float32), 'resample': array([5], dtype=int32), 'npixx': array([2304], dtype=int32), 'xmin': array([0], dtype=int32), 'xmax': array([2304], dtype=int32), 'ymin': array([304], dtype=int32), 'ymax': array([2054], dtype=int32), 'dbscan_eps': array([12.], dtype=float32), 'dbscan_minsamples': array([20.], dtype=float32), 'dir_radius': array([28.], dtype=float32), 'dir_min_accuracy': array([0.95], dtype=float32), 'dir_minsamples': array([12.], dtype=float32), 'dir_thickness': array([6.5], dtype=float32), 'time_threshold': array([300.], dtype=float32), 'max_attempts': array([3.], dtype=float32), 'isolation_radius': array([5.], dtype=float32)}"
   ]
  },
  {
   "cell_type": "raw",
   "id": "433c15c1-e8f4-4a32-bed5-f8c8c94dd4bb",
   "metadata": {},
   "source": [
    "['camera_mode',\n",
    " 'pmt_mode',\n",
    " 'rebin',\n",
    " 'nsigma',\n",
    " 'min_neighbors_average',\n",
    " 'cimax',\n",
    " 'npixx',\n",
    " 'xmin',\n",
    " 'xmax',\n",
    " 'ymin',\n",
    " 'ymax',\n",
    " 'dbscan_eps',\n",
    " 'dbscan_minsamples',\n",
    " 'dir_radius',\n",
    " 'dir_min_accuracy',\n",
    " 'dir_minsamples',\n",
    " 'dir_thickness',\n",
    " 'time_threshold',\n",
    " 'max_attempts',\n",
    " 'isolation_radius']\n",
    "1\n",
    "{'run': 49856, 'camera_mode': array([1], dtype=int32), 'pmt_mode': array([0], dtype=int32), 'rebin': array([4], dtype=int32), 'nsigma': array([0.6], dtype=float32), 'min_neighbors_average': array([1.2], dtype=float32), 'cimax': array([5000], dtype=int32), 'npixx': array([2304], dtype=int32), 'xmin': array([0], dtype=int32), 'xmax': array([2304], dtype=int32), 'ymin': array([304], dtype=int32), 'ymax': array([2054], dtype=int32), 'dbscan_eps': array([12.], dtype=float32), 'dbscan_minsamples': array([20.], dtype=float32), 'dir_radius': array([28.], dtype=float32), 'dir_min_accuracy': array([0.95], dtype=float32), 'dir_minsamples': array([12.], dtype=float32), 'dir_thickness': array([6.5], dtype=float32), 'time_threshold': array([300.], dtype=float32), 'max_attempts': array([3.], dtype=float32), 'isolation_radius': array([5.], dtype=float32)}"
   ]
  },
  {
   "cell_type": "code",
   "execution_count": 117,
   "id": "9bdab8f7-6cbf-4d53-8e8a-4fea344209ff",
   "metadata": {},
   "outputs": [
    {
     "data": {
      "text/html": [
       "<div>\n",
       "<style scoped>\n",
       "    .dataframe tbody tr th:only-of-type {\n",
       "        vertical-align: middle;\n",
       "    }\n",
       "\n",
       "    .dataframe tbody tr th {\n",
       "        vertical-align: top;\n",
       "    }\n",
       "\n",
       "    .dataframe thead th {\n",
       "        text-align: right;\n",
       "    }\n",
       "</style>\n",
       "<table border=\"1\" class=\"dataframe\">\n",
       "  <thead>\n",
       "    <tr style=\"text-align: right;\">\n",
       "      <th></th>\n",
       "      <th>run</th>\n",
       "      <th>event</th>\n",
       "      <th>pedestal_run</th>\n",
       "      <th>cmos_integral</th>\n",
       "      <th>cmos_mean</th>\n",
       "      <th>cmos_rms</th>\n",
       "      <th>t_DBSCAN</th>\n",
       "      <th>t_variables</th>\n",
       "      <th>lp_len</th>\n",
       "      <th>t_pedsub</th>\n",
       "      <th>...</th>\n",
       "      <th>sc_lgaussmean</th>\n",
       "      <th>sc_lgausssigma</th>\n",
       "      <th>sc_lchi2</th>\n",
       "      <th>sc_lstatus</th>\n",
       "      <th>Lime_pressure</th>\n",
       "      <th>Atm_pressure</th>\n",
       "      <th>Lime_temperature</th>\n",
       "      <th>Atm_temperature</th>\n",
       "      <th>Humidity</th>\n",
       "      <th>Mixture_Density</th>\n",
       "    </tr>\n",
       "  </thead>\n",
       "  <tbody>\n",
       "    <tr>\n",
       "      <th>0</th>\n",
       "      <td>46638</td>\n",
       "      <td>0</td>\n",
       "      <td>46638</td>\n",
       "      <td>4290576.5</td>\n",
       "      <td>0.808259</td>\n",
       "      <td>2.052739</td>\n",
       "      <td>0.003212</td>\n",
       "      <td>0.000006</td>\n",
       "      <td>77.0</td>\n",
       "      <td>0.015014</td>\n",
       "      <td>...</td>\n",
       "      <td>[]</td>\n",
       "      <td>[]</td>\n",
       "      <td>[]</td>\n",
       "      <td>[]</td>\n",
       "      <td>0.921127</td>\n",
       "      <td>0.913915</td>\n",
       "      <td>21.180058</td>\n",
       "      <td>21.292858</td>\n",
       "      <td>-4.864234</td>\n",
       "      <td>1.420115</td>\n",
       "    </tr>\n",
       "    <tr>\n",
       "      <th>1</th>\n",
       "      <td>46638</td>\n",
       "      <td>1</td>\n",
       "      <td>46638</td>\n",
       "      <td>4283013.5</td>\n",
       "      <td>0.806835</td>\n",
       "      <td>2.051062</td>\n",
       "      <td>0.002397</td>\n",
       "      <td>0.000005</td>\n",
       "      <td>52.0</td>\n",
       "      <td>0.013410</td>\n",
       "      <td>...</td>\n",
       "      <td>[]</td>\n",
       "      <td>[]</td>\n",
       "      <td>[]</td>\n",
       "      <td>[]</td>\n",
       "      <td>0.921127</td>\n",
       "      <td>0.913915</td>\n",
       "      <td>21.180058</td>\n",
       "      <td>21.292858</td>\n",
       "      <td>-4.864234</td>\n",
       "      <td>1.420115</td>\n",
       "    </tr>\n",
       "    <tr>\n",
       "      <th>2</th>\n",
       "      <td>46638</td>\n",
       "      <td>2</td>\n",
       "      <td>46638</td>\n",
       "      <td>4260047.0</td>\n",
       "      <td>0.802508</td>\n",
       "      <td>2.045364</td>\n",
       "      <td>0.002713</td>\n",
       "      <td>0.000005</td>\n",
       "      <td>110.0</td>\n",
       "      <td>0.012118</td>\n",
       "      <td>...</td>\n",
       "      <td>[]</td>\n",
       "      <td>[]</td>\n",
       "      <td>[]</td>\n",
       "      <td>[]</td>\n",
       "      <td>0.921127</td>\n",
       "      <td>0.913915</td>\n",
       "      <td>21.180058</td>\n",
       "      <td>21.292858</td>\n",
       "      <td>-4.864234</td>\n",
       "      <td>1.420115</td>\n",
       "    </tr>\n",
       "    <tr>\n",
       "      <th>3</th>\n",
       "      <td>46638</td>\n",
       "      <td>3</td>\n",
       "      <td>46638</td>\n",
       "      <td>4259464.0</td>\n",
       "      <td>0.802398</td>\n",
       "      <td>2.044078</td>\n",
       "      <td>0.002177</td>\n",
       "      <td>0.000005</td>\n",
       "      <td>47.0</td>\n",
       "      <td>0.012144</td>\n",
       "      <td>...</td>\n",
       "      <td>[]</td>\n",
       "      <td>[]</td>\n",
       "      <td>[]</td>\n",
       "      <td>[]</td>\n",
       "      <td>0.921127</td>\n",
       "      <td>0.913915</td>\n",
       "      <td>21.180058</td>\n",
       "      <td>21.292858</td>\n",
       "      <td>-4.864234</td>\n",
       "      <td>1.420115</td>\n",
       "    </tr>\n",
       "    <tr>\n",
       "      <th>4</th>\n",
       "      <td>46638</td>\n",
       "      <td>4</td>\n",
       "      <td>46638</td>\n",
       "      <td>4279843.0</td>\n",
       "      <td>0.806237</td>\n",
       "      <td>2.047474</td>\n",
       "      <td>0.104436</td>\n",
       "      <td>0.189049</td>\n",
       "      <td>86.0</td>\n",
       "      <td>0.013198</td>\n",
       "      <td>...</td>\n",
       "      <td>[10.552761]</td>\n",
       "      <td>[5.301038]</td>\n",
       "      <td>[3.9898305]</td>\n",
       "      <td>[3.0]</td>\n",
       "      <td>0.921127</td>\n",
       "      <td>0.913915</td>\n",
       "      <td>21.180058</td>\n",
       "      <td>21.292858</td>\n",
       "      <td>-4.864234</td>\n",
       "      <td>1.420115</td>\n",
       "    </tr>\n",
       "    <tr>\n",
       "      <th>...</th>\n",
       "      <td>...</td>\n",
       "      <td>...</td>\n",
       "      <td>...</td>\n",
       "      <td>...</td>\n",
       "      <td>...</td>\n",
       "      <td>...</td>\n",
       "      <td>...</td>\n",
       "      <td>...</td>\n",
       "      <td>...</td>\n",
       "      <td>...</td>\n",
       "      <td>...</td>\n",
       "      <td>...</td>\n",
       "      <td>...</td>\n",
       "      <td>...</td>\n",
       "      <td>...</td>\n",
       "      <td>...</td>\n",
       "      <td>...</td>\n",
       "      <td>...</td>\n",
       "      <td>...</td>\n",
       "      <td>...</td>\n",
       "      <td>...</td>\n",
       "    </tr>\n",
       "    <tr>\n",
       "      <th>101</th>\n",
       "      <td>46638</td>\n",
       "      <td>101</td>\n",
       "      <td>46638</td>\n",
       "      <td>4260575.5</td>\n",
       "      <td>0.802608</td>\n",
       "      <td>2.052403</td>\n",
       "      <td>0.001978</td>\n",
       "      <td>0.000004</td>\n",
       "      <td>48.0</td>\n",
       "      <td>0.008665</td>\n",
       "      <td>...</td>\n",
       "      <td>[]</td>\n",
       "      <td>[]</td>\n",
       "      <td>[]</td>\n",
       "      <td>[]</td>\n",
       "      <td>0.921083</td>\n",
       "      <td>0.914231</td>\n",
       "      <td>21.179092</td>\n",
       "      <td>21.349154</td>\n",
       "      <td>-4.844372</td>\n",
       "      <td>1.419947</td>\n",
       "    </tr>\n",
       "    <tr>\n",
       "      <th>102</th>\n",
       "      <td>46638</td>\n",
       "      <td>102</td>\n",
       "      <td>46638</td>\n",
       "      <td>4327545.0</td>\n",
       "      <td>0.815223</td>\n",
       "      <td>2.066425</td>\n",
       "      <td>0.084119</td>\n",
       "      <td>0.007648</td>\n",
       "      <td>100.0</td>\n",
       "      <td>0.009188</td>\n",
       "      <td>...</td>\n",
       "      <td>[59.735577]</td>\n",
       "      <td>[17.01266]</td>\n",
       "      <td>[15.68066]</td>\n",
       "      <td>[3.0]</td>\n",
       "      <td>0.921083</td>\n",
       "      <td>0.914231</td>\n",
       "      <td>21.179092</td>\n",
       "      <td>21.349154</td>\n",
       "      <td>-4.844372</td>\n",
       "      <td>1.419947</td>\n",
       "    </tr>\n",
       "    <tr>\n",
       "      <th>103</th>\n",
       "      <td>46638</td>\n",
       "      <td>103</td>\n",
       "      <td>46638</td>\n",
       "      <td>4271643.5</td>\n",
       "      <td>0.804693</td>\n",
       "      <td>2.051990</td>\n",
       "      <td>0.002148</td>\n",
       "      <td>0.000003</td>\n",
       "      <td>87.0</td>\n",
       "      <td>0.009014</td>\n",
       "      <td>...</td>\n",
       "      <td>[]</td>\n",
       "      <td>[]</td>\n",
       "      <td>[]</td>\n",
       "      <td>[]</td>\n",
       "      <td>0.921083</td>\n",
       "      <td>0.914231</td>\n",
       "      <td>21.179092</td>\n",
       "      <td>21.349154</td>\n",
       "      <td>-4.844372</td>\n",
       "      <td>1.419947</td>\n",
       "    </tr>\n",
       "    <tr>\n",
       "      <th>104</th>\n",
       "      <td>46638</td>\n",
       "      <td>104</td>\n",
       "      <td>46638</td>\n",
       "      <td>4314738.0</td>\n",
       "      <td>0.812811</td>\n",
       "      <td>2.062001</td>\n",
       "      <td>0.002349</td>\n",
       "      <td>0.000005</td>\n",
       "      <td>60.0</td>\n",
       "      <td>0.014424</td>\n",
       "      <td>...</td>\n",
       "      <td>[]</td>\n",
       "      <td>[]</td>\n",
       "      <td>[]</td>\n",
       "      <td>[]</td>\n",
       "      <td>0.921083</td>\n",
       "      <td>0.914231</td>\n",
       "      <td>21.179092</td>\n",
       "      <td>21.349154</td>\n",
       "      <td>-4.844372</td>\n",
       "      <td>1.419947</td>\n",
       "    </tr>\n",
       "    <tr>\n",
       "      <th>105</th>\n",
       "      <td>46638</td>\n",
       "      <td>105</td>\n",
       "      <td>46638</td>\n",
       "      <td>4324253.5</td>\n",
       "      <td>0.814603</td>\n",
       "      <td>2.066336</td>\n",
       "      <td>0.002722</td>\n",
       "      <td>0.000005</td>\n",
       "      <td>102.0</td>\n",
       "      <td>0.013805</td>\n",
       "      <td>...</td>\n",
       "      <td>[]</td>\n",
       "      <td>[]</td>\n",
       "      <td>[]</td>\n",
       "      <td>[]</td>\n",
       "      <td>0.921083</td>\n",
       "      <td>0.914231</td>\n",
       "      <td>21.179092</td>\n",
       "      <td>21.349154</td>\n",
       "      <td>-4.844372</td>\n",
       "      <td>1.419947</td>\n",
       "    </tr>\n",
       "  </tbody>\n",
       "</table>\n",
       "<p>106 rows × 64 columns</p>\n",
       "</div>"
      ],
      "text/plain": [
       "       run  event  pedestal_run  cmos_integral  cmos_mean  cmos_rms  t_DBSCAN  \\\n",
       "0    46638      0         46638      4290576.5   0.808259  2.052739  0.003212   \n",
       "1    46638      1         46638      4283013.5   0.806835  2.051062  0.002397   \n",
       "2    46638      2         46638      4260047.0   0.802508  2.045364  0.002713   \n",
       "3    46638      3         46638      4259464.0   0.802398  2.044078  0.002177   \n",
       "4    46638      4         46638      4279843.0   0.806237  2.047474  0.104436   \n",
       "..     ...    ...           ...            ...        ...       ...       ...   \n",
       "101  46638    101         46638      4260575.5   0.802608  2.052403  0.001978   \n",
       "102  46638    102         46638      4327545.0   0.815223  2.066425  0.084119   \n",
       "103  46638    103         46638      4271643.5   0.804693  2.051990  0.002148   \n",
       "104  46638    104         46638      4314738.0   0.812811  2.062001  0.002349   \n",
       "105  46638    105         46638      4324253.5   0.814603  2.066336  0.002722   \n",
       "\n",
       "     t_variables  lp_len  t_pedsub  ...  sc_lgaussmean  sc_lgausssigma  \\\n",
       "0       0.000006    77.0  0.015014  ...             []              []   \n",
       "1       0.000005    52.0  0.013410  ...             []              []   \n",
       "2       0.000005   110.0  0.012118  ...             []              []   \n",
       "3       0.000005    47.0  0.012144  ...             []              []   \n",
       "4       0.189049    86.0  0.013198  ...    [10.552761]      [5.301038]   \n",
       "..           ...     ...       ...  ...            ...             ...   \n",
       "101     0.000004    48.0  0.008665  ...             []              []   \n",
       "102     0.007648   100.0  0.009188  ...    [59.735577]      [17.01266]   \n",
       "103     0.000003    87.0  0.009014  ...             []              []   \n",
       "104     0.000005    60.0  0.014424  ...             []              []   \n",
       "105     0.000005   102.0  0.013805  ...             []              []   \n",
       "\n",
       "        sc_lchi2  sc_lstatus  Lime_pressure  Atm_pressure  Lime_temperature  \\\n",
       "0             []          []       0.921127      0.913915         21.180058   \n",
       "1             []          []       0.921127      0.913915         21.180058   \n",
       "2             []          []       0.921127      0.913915         21.180058   \n",
       "3             []          []       0.921127      0.913915         21.180058   \n",
       "4    [3.9898305]       [3.0]       0.921127      0.913915         21.180058   \n",
       "..           ...         ...            ...           ...               ...   \n",
       "101           []          []       0.921083      0.914231         21.179092   \n",
       "102   [15.68066]       [3.0]       0.921083      0.914231         21.179092   \n",
       "103           []          []       0.921083      0.914231         21.179092   \n",
       "104           []          []       0.921083      0.914231         21.179092   \n",
       "105           []          []       0.921083      0.914231         21.179092   \n",
       "\n",
       "    Atm_temperature  Humidity Mixture_Density  \n",
       "0         21.292858 -4.864234        1.420115  \n",
       "1         21.292858 -4.864234        1.420115  \n",
       "2         21.292858 -4.864234        1.420115  \n",
       "3         21.292858 -4.864234        1.420115  \n",
       "4         21.292858 -4.864234        1.420115  \n",
       "..              ...       ...             ...  \n",
       "101       21.349154 -4.844372        1.419947  \n",
       "102       21.349154 -4.844372        1.419947  \n",
       "103       21.349154 -4.844372        1.419947  \n",
       "104       21.349154 -4.844372        1.419947  \n",
       "105       21.349154 -4.844372        1.419947  \n",
       "\n",
       "[106 rows x 64 columns]"
      ]
     },
     "execution_count": 117,
     "metadata": {},
     "output_type": "execute_result"
    }
   ],
   "source": [
    "df"
   ]
  },
  {
   "cell_type": "code",
   "execution_count": 56,
   "id": "8d19275f-f437-4c1e-8062-670e79c3e94e",
   "metadata": {},
   "outputs": [
    {
     "data": {
      "text/html": [
       "<div>\n",
       "<style scoped>\n",
       "    .dataframe tbody tr th:only-of-type {\n",
       "        vertical-align: middle;\n",
       "    }\n",
       "\n",
       "    .dataframe tbody tr th {\n",
       "        vertical-align: top;\n",
       "    }\n",
       "\n",
       "    .dataframe thead th {\n",
       "        text-align: right;\n",
       "    }\n",
       "</style>\n",
       "<table border=\"1\" class=\"dataframe\">\n",
       "  <thead>\n",
       "    <tr style=\"text-align: right;\">\n",
       "      <th></th>\n",
       "      <th>run</th>\n",
       "      <th>camera_mode</th>\n",
       "      <th>rebin</th>\n",
       "      <th>nsigma</th>\n",
       "      <th>min_neighbors_average</th>\n",
       "      <th>cimax</th>\n",
       "      <th>pmt_mode</th>\n",
       "      <th>threshold</th>\n",
       "      <th>Board_PMT</th>\n",
       "      <th>height_RMS</th>\n",
       "      <th>...</th>\n",
       "      <th>ymax</th>\n",
       "      <th>dbscan_eps</th>\n",
       "      <th>dbscan_minsamples</th>\n",
       "      <th>dir_radius</th>\n",
       "      <th>dir_min_accuracy</th>\n",
       "      <th>dir_minsamples</th>\n",
       "      <th>dir_thickness</th>\n",
       "      <th>time_threshold</th>\n",
       "      <th>max_attempts</th>\n",
       "      <th>isolation_radius</th>\n",
       "    </tr>\n",
       "  </thead>\n",
       "  <tbody>\n",
       "    <tr>\n",
       "      <th>0</th>\n",
       "      <td>49956</td>\n",
       "      <td>1</td>\n",
       "      <td>4</td>\n",
       "      <td>0.6</td>\n",
       "      <td>1.2</td>\n",
       "      <td>5000</td>\n",
       "      <td>1</td>\n",
       "      <td>0</td>\n",
       "      <td>[1, 2, 3, 4]</td>\n",
       "      <td>5</td>\n",
       "      <td>...</td>\n",
       "      <td>2054</td>\n",
       "      <td>12.0</td>\n",
       "      <td>20.0</td>\n",
       "      <td>28.0</td>\n",
       "      <td>0.95</td>\n",
       "      <td>12.0</td>\n",
       "      <td>6.5</td>\n",
       "      <td>300.0</td>\n",
       "      <td>3.0</td>\n",
       "      <td>5.0</td>\n",
       "    </tr>\n",
       "  </tbody>\n",
       "</table>\n",
       "<p>1 rows × 29 columns</p>\n",
       "</div>"
      ],
      "text/plain": [
       "     run  camera_mode  rebin  nsigma  min_neighbors_average  cimax  pmt_mode  \\\n",
       "0  49956            1      4     0.6                    1.2   5000         1   \n",
       "\n",
       "   threshold     Board_PMT  height_RMS  ...  ymax  dbscan_eps  \\\n",
       "0          0  [1, 2, 3, 4]           5  ...  2054        12.0   \n",
       "\n",
       "   dbscan_minsamples  dir_radius  dir_min_accuracy  dir_minsamples  \\\n",
       "0               20.0        28.0              0.95            12.0   \n",
       "\n",
       "   dir_thickness  time_threshold  max_attempts  isolation_radius  \n",
       "0            6.5           300.0           3.0               5.0  \n",
       "\n",
       "[1 rows x 29 columns]"
      ]
     },
     "execution_count": 56,
     "metadata": {},
     "output_type": "execute_result"
    }
   ],
   "source": [
    "dp"
   ]
  },
  {
   "cell_type": "code",
   "execution_count": 69,
   "id": "7ebed339-fc1b-4e4c-b6ca-d6bcfee4ba8b",
   "metadata": {},
   "outputs": [],
   "source": [
    "a=[1, 2, 3, 4, 7]\n",
    "c = 0\n",
    "for i, b in enumerate(a):\n",
    "    c+=2**b"
   ]
  },
  {
   "cell_type": "code",
   "execution_count": 70,
   "id": "44d9a384-ccf4-4d41-8d52-58befff417af",
   "metadata": {},
   "outputs": [
    {
     "data": {
      "text/plain": [
       "'10011110'"
      ]
     },
     "execution_count": 70,
     "metadata": {},
     "output_type": "execute_result"
    }
   ],
   "source": [
    "bin(c)[2:]"
   ]
  },
  {
   "cell_type": "code",
   "execution_count": 51,
   "id": "4ebe3898-adeb-492f-be66-367cece987eb",
   "metadata": {},
   "outputs": [],
   "source": [
    "%run ../env.ipynb"
   ]
  },
  {
   "cell_type": "code",
   "execution_count": 76,
   "id": "293bd373-abf5-4a4c-a977-1addfc7250c2",
   "metadata": {},
   "outputs": [],
   "source": [
    "import mysql.connector\n",
    "connection = mysql.connector.connect(\n",
    "      host=os.environ['MYSQL_IP'],\n",
    "      user=os.environ['MYSQL_USER'],\n",
    "      password=os.environ['MYSQL_PASSWORD'],\n",
    "      database=os.environ['MYSQL_DATABASE'],\n",
    "      port=int(os.environ['MYSQL_PORT'])\n",
    ")\n",
    "\n",
    "def update_sql_value(connection, table_name, column_element, value, verbose=False):\n",
    "    if isinstance(value, str):\n",
    "        svalue=\"\\\"\"+value+\"\\\"\"\n",
    "    else:\n",
    "        svalue=str(value)\n",
    "    sql = \"UPDATE `\"+table_name+\"` SET `\"+column_element+\"` = \"+svalue+\" WHERE 1;\"\n",
    "    if verbose: print(sql)\n",
    "    try:\n",
    "        mycursor = connection.cursor()\n",
    "        mycursor.execute(sql)\n",
    "        connection.commit()\n",
    "        if verbose: print(mycursor.rowcount, \"Update done\")\n",
    "        mycursor.close()\n",
    "        return 0\n",
    "    except Exception as e:\n",
    "        print('ERROR >>> SQL update {}'.format(e))\n",
    "        return 1\n",
    "\n",
    "def start2epoch(sql_Log, run):\n",
    "    from datetime import datetime\n",
    "    date = str(sql_Log[sql_Log.run_number==run].start_time.values[0])\n",
    "    utc_time = datetime.strptime(date, \"%Y-%m-%dT%H:%M:%S.000000000\")\n",
    "    epoch_time = (utc_time - datetime(1970, 1, 1)).total_seconds()\n",
    "    return epoch_time\n",
    "    \n",
    "    \n",
    "def sql2df(url=\"https://notebook.cygno.cloud.infn.it/cygno_sql_query.php?site=lnf&db=gm_data\"):\n",
    "    import requests\n",
    "    r = requests.get(url, verify=False)\n",
    "    df = pd.read_json(url)\n",
    "    return df\n",
    "\n",
    "def push_update_panda_table_sql(connection, table_name, df, verbose=False):\n",
    "\n",
    "    try:\n",
    "        mycursor=connection.cursor()\n",
    "        mycursor.execute(\"SHOW TABLES LIKE '\"+table_name+\"'\")\n",
    "        result = mycursor.fetchone()\n",
    "        if not result:\n",
    "            cols = \"`,`\".join([str(i) for i in df.columns.tolist()])\n",
    "            db_to_crete = \"CREATE TABLE `\"+table_name+\"` (\"+' '.join([\"`\"+x+\"` REAL,\" for x in df.columns.tolist()])[:-1]+\")\"\n",
    "            print (\"[Table {:s} created into SQL Server]\".format(table_name))\n",
    "            mycursor = connection.cursor()\n",
    "            mycursor.execute(db_to_crete)\n",
    "\n",
    "        cols = \"`,`\".join([str(i) for i in df.columns.tolist()])\n",
    "\n",
    "        for i,row in df.iterrows():\n",
    "            sql = \"INSERT INTO `\"+table_name+\"` (`\" +cols + \"`) VALUES (\" + \"%s,\"*(len(row)-1) + \"%s) \" \\\n",
    "            \"ON DUPLICATE KEY UPDATE \"+\", \".join([\"`\"+s+\"`='\"+str(df[s].values[0])+\"'\" for s in df.columns])\n",
    "            if verbose: print(sql)\n",
    "            mycursor.execute(sql, tuple(row.astype(str)))\n",
    "            connection.commit()\n",
    "\n",
    "        mycursor.close()\n",
    "        return 0 \n",
    "    except Exception as e:\n",
    "        print('SQL ERROR --> ', e)\n",
    "        return 1"
   ]
  },
  {
   "cell_type": "code",
   "execution_count": 113,
   "id": "f17cb475-1fb2-4f33-bf4b-9f4fd4d4a95a",
   "metadata": {},
   "outputs": [
    {
     "name": "stdout",
     "output_type": "stream",
     "text": [
      "10942.745513475276 2248.057 0.978578465062089\n"
     ]
    },
    {
     "data": {
      "image/png": "[encoded data removed]",
      "text/plain": [
       "<Figure size 432x288 with 1 Axes>"
      ]
     },
     "metadata": {},
     "output_type": "display_data"
    }
   ],
   "source": [
    "import pandas as pd\n",
    "import cygno as cy\n",
    "import numpy as np\n",
    "import matplotlib.pyplot as plt\n",
    "def Gauss3(x, a0, x0, s0):\n",
    "    import numpy as np\n",
    "    return a0 * np.exp(-(x - x0)**2 / (2 * s0**2))\n",
    "\n",
    "def plt_hist(data, run,  xmin=4000, xmax=16000, bins=60, verbose=False):\n",
    "    import matplotlib.pyplot as plt\n",
    "    import base64\n",
    "    from json import dump\n",
    "    import numpy as np\n",
    "    import seaborn as sns\n",
    "    from scipy.optimize import curve_fit\n",
    "    sns.set()\n",
    "\n",
    "\n",
    "    stat = data[(data>xmin) & (data<xmax)].mean(), data[(data>xmin) & (data<xmax)].std()\n",
    "    fig,ax = plt.subplots()\n",
    "\n",
    "    y,x = np.histogram(data, range=(xmin,xmax), bins = bins)\n",
    "    x=x[:-1]\n",
    "    w = abs(x[1] - x[0])\n",
    "    xfmin=stat[0]-0.6*stat[1]/(stat[0]/12000)\n",
    "    print(xfmin, stat[1], 1/(stat[0]/12000))\n",
    "    xfmax=stat[0]+3*stat[1]\n",
    "\n",
    "    popt, pcov = curve_fit(Gauss3,x[(x>xfmin) & (x<xfmax)], y[(x>xfmin) & (x<xfmax)], \n",
    "                           p0=[500, stat[0], stat[1]])\n",
    "    perr = np.sqrt(np.diag(pcov))\n",
    "\n",
    "    ax.bar(x,y, width=w, label='run{}\\nmean: {:.1f}\\nstd: {:.1f}'.format(run,stat[0], stat[1]))\n",
    "    ax.plot(x[(x>xfmin) & (x<xfmax)], Gauss3(x[(x>xfmin) & (x<xfmax)], *popt), 'r--', \n",
    "            label='p0 = {:.1f}+/-{:.1f}\\np1 = {:.1f}+/-{:.1f}\\np3 = {:.1f}+/-{:.1f}'\\\n",
    "            .format(popt[0],perr[0],popt[1],perr[1],popt[2],perr[2]))\n",
    "\n",
    "\n",
    "    ax.legend()\n",
    "    plt.savefig('/tmp/fe.png')\n",
    "    if verbose: plt.show()\n",
    "    with open('/tmp/fe.png', 'rb') as f:\n",
    "        img_bytes = f.read()\n",
    "    f.close()\n",
    "    img_base64 = base64.b64encode(img_bytes).decode('utf-8')\n",
    "    if verbose: print(img_base64)\n",
    "\n",
    "    del fig, ax, data\n",
    "    return img_base64, stat, popt, perr\n",
    "\n",
    "run = 49170\n",
    "run_name = '/jupyter-workspace/cloud-storage/cygno-analysis/pkl/'+'reco_run{0:05d}_3D.pkl.gz'.format(run)\n",
    "dfall=pd.read_pickle(run_name, compression={'method': 'gzip'})\n",
    "img64,stat1, popt1, perr1 = plt_hist(np.hstack(dfall[\"sc_integral\"]), run, xmin=4000, xmax=16000, bins=60, verbose=False)\n",
    "# update_sql_value(connection, \"tmpTable\", \"peak_fe_1\", popt1[1], verbose=False)\n",
    "# update_sql_value(connection, \"tmpTable\", \"epoch_fe_1\", start2epoch(cy.read_cygno_logbook(sql=True, tag='lngs', start_run=run, end_run=run+1, verbose=False), run), verbose=False)"
   ]
  },
  {
   "cell_type": "code",
   "execution_count": 114,
   "id": "3b8ef0cf-48b3-41e1-808b-6cb5a28640a1",
   "metadata": {},
   "outputs": [
    {
     "data": {
      "image/png": "[encoded data removed]",
      "text/plain": [
       "<Figure size 432x288 with 1 Axes>"
      ]
     },
     "metadata": {},
     "output_type": "display_data"
    }
   ],
   "source": [
    "plt.hist(np.hstack(dfall.sc_integral/dfall.sc_nhits), range=(0,30), bins=60)\n",
    "plt.show()"
   ]
  },
  {
   "cell_type": "code",
   "execution_count": 115,
   "id": "ec295dbc-10d4-4d6f-bc12-f5199f65589a",
   "metadata": {},
   "outputs": [
    {
     "data": {
      "image/png": "[encoded data removed]",
      "text/plain": [
       "<Figure size 432x288 with 1 Axes>"
      ]
     },
     "metadata": {},
     "output_type": "display_data"
    }
   ],
   "source": [
    "plt.hist(np.hstack(dfall.sc_integral)[np.hstack(dfall.sc_integral/dfall.sc_nhits)>14], range = (4000, 16000), bins=60)\n",
    "plt.show()"
   ]
  },
  {
   "cell_type": "code",
   "execution_count": 110,
   "id": "d568fc00-fd63-4504-810f-f90246ba4dd8",
   "metadata": {},
   "outputs": [
    {
     "data": {
      "text/plain": [
       "(1774, 1508)"
      ]
     },
     "execution_count": 110,
     "metadata": {},
     "output_type": "execute_result"
    }
   ],
   "source": [
    "len(np.hstack(dfall.sc_integral)), len(np.hstack(dfall.sc_integral)[np.hstack(dfall.sc_integral/dfall.sc_nhits)>14])"
   ]
  },
  {
   "cell_type": "code",
   "execution_count": 10,
   "id": "6dfeba91-78b9-497e-b927-5dc6f45d5163",
   "metadata": {},
   "outputs": [],
   "source": [
    "def push_panda_table_sql(connection, table_name, df):\n",
    "\n",
    "    try:\n",
    "        mycursor=connection.cursor()\n",
    "        mycursor.execute(\"SHOW TABLES LIKE '\"+table_name+\"'\")\n",
    "        result = mycursor.fetchone()\n",
    "        if not result:\n",
    "            cols = \"`,`\".join([str(i) for i in df.columns.tolist()])\n",
    "            db_to_crete = \"CREATE TABLE `\"+table_name+\"` (\"+' '.join([\"`\"+x+\"` REAL,\" for x in df.columns.tolist()])[:-1]+\")\"\n",
    "            print (\"[Table {:s} created into SQL Server]\".format(table_name))\n",
    "            mycursor = connection.cursor()\n",
    "            mycursor.execute(db_to_crete)\n",
    "\n",
    "        cols = \"`,`\".join([str(i) for i in df.columns.tolist()])\n",
    "\n",
    "        for i,row in df.iterrows():\n",
    "            sql = \"INSERT INTO `\"+table_name+\"` (`\" +cols + \"`) VALUES (\" + \"%s,\"*(len(row)-1) + \"%s) \" \\\n",
    "            \"ON DUPLICATE KEY UPDATE \"+\", \".join([\"`\"+s+\"`=\"+str(dv[s].values[0]) for s in df.columns])\n",
    "            mycursor.execute(sql, tuple(row.astype(str)))\n",
    "            connection.commit()\n",
    "\n",
    "        mycursor.close()\n",
    "        return 0 \n",
    "    except Exception as e:\n",
    "        print('SQL ERROR --> ', e)\n",
    "        return 1"
   ]
  },
  {
   "cell_type": "raw",
   "id": "3f6c4e42-67f1-4d8e-9006-2dbb85973833",
   "metadata": {},
   "source": [
    "INSERT INTO `ALLOWANCE` (`EmployeeID`, `Year`, `Month`, `OverTime`,`Medical`,\n",
    "`Lunch`, `Bonus`, `Allowance`) values (10000001, 2014, 4, 10.00, 10.00,\n",
    "10.45, 10.10, 40.55) ON DUPLICATE KEY UPDATE `OverTime`=10.00, `Medical`=10.00, `Lunch`=10.45, `Bonus`=10.10, `Allowance`=40.55;"
   ]
  },
  {
   "cell_type": "code",
   "execution_count": 119,
   "id": "853d93b9-b0e4-4c38-86cb-abd4bb168edd",
   "metadata": {},
   "outputs": [
    {
     "name": "stderr",
     "output_type": "stream",
     "text": [
      "/usr/local/lib/python3.6/site-packages/urllib3/connectionpool.py:1052: InsecureRequestWarning: Unverified HTTPS request is being made to host 'notebook.cygno.cloud.infn.it'. Adding certificate verification is strongly advised. See: https://urllib3.readthedocs.io/en/1.26.x/advanced-usage.html#ssl-warnings\n",
      "  InsecureRequestWarning,\n"
     ]
    }
   ],
   "source": [
    "\n",
    "dv = sql2df(url=\"https://notebook.cygno.cloud.infn.it/cygno_sql_query.php?db=tmpTable\")"
   ]
  },
  {
   "cell_type": "code",
   "execution_count": 120,
   "id": "d3647bbf-a94b-43a2-b2d7-ec68bae02457",
   "metadata": {},
   "outputs": [
    {
     "data": {
      "text/html": [
       "<div>\n",
       "<style scoped>\n",
       "    .dataframe tbody tr th:only-of-type {\n",
       "        vertical-align: middle;\n",
       "    }\n",
       "\n",
       "    .dataframe tbody tr th {\n",
       "        vertical-align: top;\n",
       "    }\n",
       "\n",
       "    .dataframe thead th {\n",
       "        text-align: right;\n",
       "    }\n",
       "</style>\n",
       "<table border=\"1\" class=\"dataframe\">\n",
       "  <thead>\n",
       "    <tr style=\"text-align: right;\">\n",
       "      <th></th>\n",
       "      <th>epoch_fe_1</th>\n",
       "      <th>peak_fe_1</th>\n",
       "      <th>epoch_fe_2</th>\n",
       "      <th>peak_fe_2</th>\n",
       "      <th>epoch_fe_3</th>\n",
       "      <th>peak_fe_3</th>\n",
       "      <th>epoch_fe_4</th>\n",
       "      <th>peak_fe_4</th>\n",
       "      <th>epoch_fe_5</th>\n",
       "      <th>peak_fe_5</th>\n",
       "      <th>image_fe_1</th>\n",
       "      <th>image_fe_2</th>\n",
       "      <th>image_fe_3</th>\n",
       "      <th>image_fe_4</th>\n",
       "      <th>image_fe_5</th>\n",
       "      <th>image_scan_fe</th>\n",
       "    </tr>\n",
       "  </thead>\n",
       "  <tbody>\n",
       "    <tr>\n",
       "      <th>0</th>\n",
       "      <td>1708770577</td>\n",
       "      <td>7217.977567</td>\n",
       "      <td>1708770731</td>\n",
       "      <td>9907.645943</td>\n",
       "      <td>1708770920</td>\n",
       "      <td>11670.288676</td>\n",
       "      <td>1708771172</td>\n",
       "      <td>12658.843858</td>\n",
       "      <td>1708771336</td>\n",
       "      <td>13201.310326</td>\n",
       "      <td>iVBORw0KGgoAAAANSUhEUgAAAoAAAAHgCAYAAAA10dzkAA...</td>\n",
       "      <td>iVBORw0KGgoAAAANSUhEUgAAAoAAAAHgCAYAAAA10dzkAA...</td>\n",
       "      <td>iVBORw0KGgoAAAANSUhEUgAAAoAAAAHgCAYAAAA10dzkAA...</td>\n",
       "      <td>iVBORw0KGgoAAAANSUhEUgAAAoAAAAHgCAYAAAA10dzkAA...</td>\n",
       "      <td>iVBORw0KGgoAAAANSUhEUgAAAoAAAAHgCAYAAAA10dzkAA...</td>\n",
       "      <td>iVBORw0KGgoAAAANSUhEUgAAA+gAAAH0CAYAAACuKActAA...</td>\n",
       "    </tr>\n",
       "  </tbody>\n",
       "</table>\n",
       "</div>"
      ],
      "text/plain": [
       "   epoch_fe_1    peak_fe_1  epoch_fe_2    peak_fe_2  epoch_fe_3     peak_fe_3  \\\n",
       "0  1708770577  7217.977567  1708770731  9907.645943  1708770920  11670.288676   \n",
       "\n",
       "   epoch_fe_4     peak_fe_4  epoch_fe_5     peak_fe_5  \\\n",
       "0  1708771172  12658.843858  1708771336  13201.310326   \n",
       "\n",
       "                                          image_fe_1  \\\n",
       "0  iVBORw0KGgoAAAANSUhEUgAAAoAAAAHgCAYAAAA10dzkAA...   \n",
       "\n",
       "                                          image_fe_2  \\\n",
       "0  iVBORw0KGgoAAAANSUhEUgAAAoAAAAHgCAYAAAA10dzkAA...   \n",
       "\n",
       "                                          image_fe_3  \\\n",
       "0  iVBORw0KGgoAAAANSUhEUgAAAoAAAAHgCAYAAAA10dzkAA...   \n",
       "\n",
       "                                          image_fe_4  \\\n",
       "0  iVBORw0KGgoAAAANSUhEUgAAAoAAAAHgCAYAAAA10dzkAA...   \n",
       "\n",
       "                                          image_fe_5  \\\n",
       "0  iVBORw0KGgoAAAANSUhEUgAAAoAAAAHgCAYAAAA10dzkAA...   \n",
       "\n",
       "                                       image_scan_fe  \n",
       "0  iVBORw0KGgoAAAANSUhEUgAAA+gAAAH0CAYAAACuKActAA...  "
      ]
     },
     "execution_count": 120,
     "metadata": {},
     "output_type": "execute_result"
    }
   ],
   "source": [
    "dv"
   ]
  },
  {
   "cell_type": "code",
   "execution_count": 74,
   "id": "690d3273-5639-40e9-8809-d169c1ff3428",
   "metadata": {},
   "outputs": [
    {
     "data": {
      "text/plain": [
       "0"
      ]
     },
     "execution_count": 74,
     "metadata": {},
     "output_type": "execute_result"
    },
    {
     "data": {
      "image/png": "[encoded data removed]",
      "text/plain": [
       "<Figure size 720x360 with 1 Axes>"
      ]
     },
     "metadata": {},
     "output_type": "display_data"
    }
   ],
   "source": [
    "\n",
    "\n",
    "def scan_fit(x, a, b):\n",
    "    import numpy as np\n",
    "    return a * (1 - np.exp(-(x + 142.26) / (-0.02 * a + 19897.75) )) * np.exp(-x / b)\n",
    "\n",
    "def scan_plt(dv, verbose=False):\n",
    "    import matplotlib.pyplot as plt\n",
    "    import base64\n",
    "    from json import dump\n",
    "    import numpy as np\n",
    "    import seaborn as sns\n",
    "    from scipy.optimize import curve_fit\n",
    "    import datetime\n",
    "    \n",
    "    sns.set()\n",
    "    try:\n",
    "        fig,ax = plt.subplots(figsize=(10,5))\n",
    "        x = [50.0, 150.0, 250.0, 350.0, 465.0]\n",
    "        y = [dv.peak_fe_1.values[0], dv.peak_fe_2.values[0], dv.peak_fe_3.values[0], \n",
    "             dv.peak_fe_4.values[0], dv.peak_fe_5.values[0]]\n",
    "        label = datetime.datetime.fromtimestamp(dv.epoch_fe_3).strftime('%Y-%m-%d')\n",
    "\n",
    "        ax.plot(x,y, 'b.-', label=label)\n",
    "        ax.legend()\n",
    "        x1 = np.linspace(0,500, 100)\n",
    "        popt, pcov = curve_fit(scan_fit,x,y, p0=[450000, 700])\n",
    "        perr = np.sqrt(np.diag(pcov))\n",
    "        y1 = scan_fit(x1, *popt)\n",
    "        ax.plot(x1,y1, 'r--', label='a={:.2e}, b={:.2e}'.format(popt[0], popt[1]))\n",
    "        ax.legend()\n",
    "\n",
    "        ax.set_xlim(0,500)\n",
    "        plt.savefig('/tmp/fe.png')\n",
    "        if verbose: plt.show()\n",
    "        with open('/tmp/fe.png', 'rb') as f:\n",
    "            img_bytes = f.read()\n",
    "        f.close()\n",
    "        img_base64 = base64.b64encode(img_bytes).decode('utf-8')\n",
    "        if verbose: print(img_base64)\n",
    "        del fig, ax\n",
    "        return img_base64, popt, perr\n",
    "    except Exception as e:\n",
    "        print('ERROR scan fit error {}'.format(e))\n",
    "        return False, [0,0], [0,0]\n",
    "\n",
    "img_base64, popt, perr = scan_plt(dv)\n",
    "update_sql_value(connection, \"tmpTable\", \"image_scan_fe\", img_base64, verbose=False)"
   ]
  },
  {
   "cell_type": "code",
   "execution_count": 84,
   "id": "da24e61d-ffff-4ea6-933b-c3ee81d7b2b4",
   "metadata": {},
   "outputs": [
    {
     "data": {
      "text/plain": [
       "7326.0710617615605"
      ]
     },
     "execution_count": 84,
     "metadata": {},
     "output_type": "execute_result"
    }
   ],
   "source": [
    "dv.peak_fe_1.values[0]"
   ]
  },
  {
   "cell_type": "code",
   "execution_count": 14,
   "id": "1c93aeb9-de88-4a1b-ba00-6deb7a3f023f",
   "metadata": {},
   "outputs": [
    {
     "data": {
      "text/plain": [
       "Index(['epoch_fe_1', 'peak_fe_1', 'epoch_fe_2', 'peak_fe_2', 'peak_fe_3',\n",
       "       'epoch_fe_3', 'epoch_fe_4', 'peak_fe_4', 'epoch_fe_5', 'peak_fe_5'],\n",
       "      dtype='object')"
      ]
     },
     "execution_count": 14,
     "metadata": {},
     "output_type": "execute_result"
    }
   ],
   "source": [
    "dv.iloc[:, : 10].columns"
   ]
  },
  {
   "cell_type": "code",
   "execution_count": 15,
   "id": "fc3971f1-461d-4ebf-a278-5c5ee46f9d86",
   "metadata": {},
   "outputs": [
    {
     "data": {
      "text/plain": [
       "'`epoch_fe_1`=1708082103, `peak_fe_1`=7326.0710617615605, `epoch_fe_2`=1708082232, `peak_fe_2`=9544.098814900355, `peak_fe_3`=11094.202805446035, `epoch_fe_3`=1708082362, `epoch_fe_4`=1708082492, `peak_fe_4`=11924.923727703812, `epoch_fe_5`=1708082637, `peak_fe_5`=12430.642260513763'"
      ]
     },
     "execution_count": 15,
     "metadata": {},
     "output_type": "execute_result"
    }
   ],
   "source": [
    "\", \".join([\"`\"+s+\"`=\"+str(dv[s].values[0]) for s in dv.iloc[:, : 10].columns])"
   ]
  },
  {
   "cell_type": "code",
   "execution_count": 40,
   "id": "25660726-8bf6-46bb-a2ac-64c857f23fb7",
   "metadata": {},
   "outputs": [],
   "source": [
    "dv.epoch_fe_1=dv.epoch_fe_1+1\n"
   ]
  },
  {
   "cell_type": "code",
   "execution_count": 41,
   "id": "c5092bd6-1060-4d92-8d64-9ebdaa705d53",
   "metadata": {},
   "outputs": [
    {
     "data": {
      "text/plain": [
       "0    1708082104\n",
       "Name: epoch_fe_1, dtype: int64"
      ]
     },
     "execution_count": 41,
     "metadata": {},
     "output_type": "execute_result"
    }
   ],
   "source": [
    "dv.epoch_fe_1"
   ]
  },
  {
   "cell_type": "code",
   "execution_count": 51,
   "id": "58818808-839c-479a-80ac-7dcb9cbbc3e6",
   "metadata": {},
   "outputs": [
    {
     "data": {
      "text/plain": [
       "0"
      ]
     },
     "execution_count": 51,
     "metadata": {},
     "output_type": "execute_result"
    }
   ],
   "source": [
    "push_panda_table_sql(connection, 'tmpTableHist', dv.iloc[:, : 10])"
   ]
  },
  {
   "cell_type": "code",
   "execution_count": 121,
   "id": "7a2e4e98-9c84-413a-988b-f2985625a009",
   "metadata": {},
   "outputs": [],
   "source": [
    "import datetime\n",
    "import time\n",
    "tn = datetime.datetime.fromtimestamp(time.time()).strftime('%H')\n",
    "if tn=='23':\n",
    "    print('so qui')\n",
    "    dv = sql2df(url=\"https://notebook.cygno.cloud.infn.it/cygno_sql_query.php?db=tmpTable\")\n",
    "    dh = sql2df(url=\"https://notebook.cygno.cloud.infn.it/cygno_sql_query.php?db=tmpTableHist\")\n",
    "    tv = datetime.datetime.fromtimestamp(dv.epoch_fe_3).strftime('%Y-%m-%d')\n",
    "    th = datetime.datetime.fromtimestamp(dh.iloc[-1].epoch_fe_3).strftime('%Y-%m-%d')\n",
    "    if not tv==th:\n",
    "        push_panda_table_sql(connection, 'tmpTableHist', dv.iloc[:, : 10])\n",
    "        print(\"history updated\")"
   ]
  },
  {
   "cell_type": "code",
   "execution_count": 63,
   "id": "1ab8ac05-058b-41dc-8847-7b81eb4c7846",
   "metadata": {},
   "outputs": [
    {
     "data": {
      "text/plain": [
       "'19'"
      ]
     },
     "execution_count": 63,
     "metadata": {},
     "output_type": "execute_result"
    }
   ],
   "source": [
    "tn"
   ]
  },
  {
   "cell_type": "code",
   "execution_count": 57,
   "id": "02ede44a-c7a6-4be4-b319-591dc7a2ff02",
   "metadata": {},
   "outputs": [
    {
     "data": {
      "text/plain": [
       "1708082362.0"
      ]
     },
     "execution_count": 57,
     "metadata": {},
     "output_type": "execute_result"
    }
   ],
   "source": [
    "dh.iloc[-1].epoch_fe_3"
   ]
  },
  {
   "cell_type": "code",
   "execution_count": 114,
   "id": "64af87a3-fd67-4bcf-aa78-b944b27af22a",
   "metadata": {},
   "outputs": [],
   "source": [
    "tn = datetime.datetime.fromtimestamp(time.time()).strftime('%Y-%m-%d')"
   ]
  },
  {
   "cell_type": "code",
   "execution_count": 115,
   "id": "4ad89330-408b-4410-9902-6b925971381a",
   "metadata": {},
   "outputs": [],
   "source": [
    "dv['date']=tn"
   ]
  },
  {
   "cell_type": "code",
   "execution_count": 116,
   "id": "359afb32-de41-4c7c-bc2f-293f66768a15",
   "metadata": {},
   "outputs": [
    {
     "data": {
      "text/html": [
       "<div>\n",
       "<style scoped>\n",
       "    .dataframe tbody tr th:only-of-type {\n",
       "        vertical-align: middle;\n",
       "    }\n",
       "\n",
       "    .dataframe tbody tr th {\n",
       "        vertical-align: top;\n",
       "    }\n",
       "\n",
       "    .dataframe thead th {\n",
       "        text-align: right;\n",
       "    }\n",
       "</style>\n",
       "<table border=\"1\" class=\"dataframe\">\n",
       "  <thead>\n",
       "    <tr style=\"text-align: right;\">\n",
       "      <th></th>\n",
       "      <th>epoch_fe_1</th>\n",
       "      <th>peak_fe_1</th>\n",
       "      <th>epoch_fe_2</th>\n",
       "      <th>peak_fe_2</th>\n",
       "      <th>epoch_fe_3</th>\n",
       "      <th>peak_fe_3</th>\n",
       "      <th>epoch_fe_4</th>\n",
       "      <th>peak_fe_4</th>\n",
       "      <th>epoch_fe_5</th>\n",
       "      <th>peak_fe_5</th>\n",
       "      <th>image_fe_1</th>\n",
       "      <th>image_fe_2</th>\n",
       "      <th>image_fe_3</th>\n",
       "      <th>image_fe_4</th>\n",
       "      <th>image_fe_5</th>\n",
       "      <th>date</th>\n",
       "    </tr>\n",
       "  </thead>\n",
       "  <tbody>\n",
       "    <tr>\n",
       "      <th>0</th>\n",
       "      <td>1708082103</td>\n",
       "      <td>7326.071062</td>\n",
       "      <td>1708082232</td>\n",
       "      <td>9544.098815</td>\n",
       "      <td>1708082362</td>\n",
       "      <td>11094.202805</td>\n",
       "      <td>1708082492</td>\n",
       "      <td>11924.923728</td>\n",
       "      <td>1708082637</td>\n",
       "      <td>12430.642261</td>\n",
       "      <td>iVBORw0KGgoAAAANSUhEUgAAAoAAAAHgCAYAAAA10dzkAA...</td>\n",
       "      <td>iVBORw0KGgoAAAANSUhEUgAAAoAAAAHgCAYAAAA10dzkAA...</td>\n",
       "      <td>iVBORw0KGgoAAAANSUhEUgAAAoAAAAHgCAYAAAA10dzkAA...</td>\n",
       "      <td>iVBORw0KGgoAAAANSUhEUgAAAoAAAAHgCAYAAAA10dzkAA...</td>\n",
       "      <td>iVBORw0KGgoAAAANSUhEUgAAAoAAAAHgCAYAAAA10dzkAA...</td>\n",
       "      <td>2024-02-17</td>\n",
       "    </tr>\n",
       "  </tbody>\n",
       "</table>\n",
       "</div>"
      ],
      "text/plain": [
       "   epoch_fe_1    peak_fe_1  epoch_fe_2    peak_fe_2  epoch_fe_3     peak_fe_3  \\\n",
       "0  1708082103  7326.071062  1708082232  9544.098815  1708082362  11094.202805   \n",
       "\n",
       "   epoch_fe_4     peak_fe_4  epoch_fe_5     peak_fe_5  \\\n",
       "0  1708082492  11924.923728  1708082637  12430.642261   \n",
       "\n",
       "                                          image_fe_1  \\\n",
       "0  iVBORw0KGgoAAAANSUhEUgAAAoAAAAHgCAYAAAA10dzkAA...   \n",
       "\n",
       "                                          image_fe_2  \\\n",
       "0  iVBORw0KGgoAAAANSUhEUgAAAoAAAAHgCAYAAAA10dzkAA...   \n",
       "\n",
       "                                          image_fe_3  \\\n",
       "0  iVBORw0KGgoAAAANSUhEUgAAAoAAAAHgCAYAAAA10dzkAA...   \n",
       "\n",
       "                                          image_fe_4  \\\n",
       "0  iVBORw0KGgoAAAANSUhEUgAAAoAAAAHgCAYAAAA10dzkAA...   \n",
       "\n",
       "                                          image_fe_5        date  \n",
       "0  iVBORw0KGgoAAAANSUhEUgAAAoAAAAHgCAYAAAA10dzkAA...  2024-02-17  "
      ]
     },
     "execution_count": 116,
     "metadata": {},
     "output_type": "execute_result"
    }
   ],
   "source": [
    "dv"
   ]
  },
  {
   "cell_type": "code",
   "execution_count": null,
   "id": "34fb846f-444b-443f-8e5e-5b45f74f6bf8",
   "metadata": {},
   "outputs": [],
   "source": []
  },
  {
   "cell_type": "code",
   "execution_count": 118,
   "id": "28d737ad-3eb8-4c5e-995e-07a32e0b00fc",
   "metadata": {},
   "outputs": [
    {
     "data": {
      "text/html": [
       "<div>\n",
       "<style scoped>\n",
       "    .dataframe tbody tr th:only-of-type {\n",
       "        vertical-align: middle;\n",
       "    }\n",
       "\n",
       "    .dataframe tbody tr th {\n",
       "        vertical-align: top;\n",
       "    }\n",
       "\n",
       "    .dataframe thead th {\n",
       "        text-align: right;\n",
       "    }\n",
       "</style>\n",
       "<table border=\"1\" class=\"dataframe\">\n",
       "  <thead>\n",
       "    <tr style=\"text-align: right;\">\n",
       "      <th></th>\n",
       "      <th>0</th>\n",
       "      <th>epoch_fe_1</th>\n",
       "      <th>epoch_fe_2</th>\n",
       "      <th>epoch_fe_3</th>\n",
       "      <th>epoch_fe_4</th>\n",
       "      <th>epoch_fe_5</th>\n",
       "      <th>peak_fe_1</th>\n",
       "      <th>peak_fe_2</th>\n",
       "      <th>peak_fe_3</th>\n",
       "      <th>peak_fe_4</th>\n",
       "      <th>peak_fe_5</th>\n",
       "    </tr>\n",
       "  </thead>\n",
       "  <tbody>\n",
       "    <tr>\n",
       "      <th>0</th>\n",
       "      <td>NaN</td>\n",
       "      <td>NaN</td>\n",
       "      <td>NaN</td>\n",
       "      <td>NaN</td>\n",
       "      <td>NaN</td>\n",
       "      <td>NaN</td>\n",
       "      <td>NaN</td>\n",
       "      <td>NaN</td>\n",
       "      <td>NaN</td>\n",
       "      <td>NaN</td>\n",
       "      <td>NaN</td>\n",
       "    </tr>\n",
       "  </tbody>\n",
       "</table>\n",
       "</div>"
      ],
      "text/plain": [
       "     0 epoch_fe_1 epoch_fe_2 epoch_fe_3 epoch_fe_4 epoch_fe_5 peak_fe_1  \\\n",
       "0  NaN        NaN        NaN        NaN        NaN        NaN       NaN   \n",
       "\n",
       "  peak_fe_2 peak_fe_3 peak_fe_4 peak_fe_5  \n",
       "0       NaN       NaN       NaN       NaN  "
      ]
     },
     "execution_count": 118,
     "metadata": {},
     "output_type": "execute_result"
    }
   ],
   "source": [
    "dv.iloc[:, : 10]+dv['date']"
   ]
  },
  {
   "cell_type": "code",
   "execution_count": 119,
   "id": "f217c20a-5303-43fd-9a61-0c0e99112954",
   "metadata": {},
   "outputs": [
    {
     "data": {
      "text/html": [
       "<div>\n",
       "<style scoped>\n",
       "    .dataframe tbody tr th:only-of-type {\n",
       "        vertical-align: middle;\n",
       "    }\n",
       "\n",
       "    .dataframe tbody tr th {\n",
       "        vertical-align: top;\n",
       "    }\n",
       "\n",
       "    .dataframe thead th {\n",
       "        text-align: right;\n",
       "    }\n",
       "</style>\n",
       "<table border=\"1\" class=\"dataframe\">\n",
       "  <thead>\n",
       "    <tr style=\"text-align: right;\">\n",
       "      <th></th>\n",
       "      <th>epoch_fe_1</th>\n",
       "      <th>peak_fe_1</th>\n",
       "      <th>epoch_fe_2</th>\n",
       "      <th>peak_fe_2</th>\n",
       "      <th>epoch_fe_3</th>\n",
       "      <th>peak_fe_3</th>\n",
       "      <th>epoch_fe_4</th>\n",
       "      <th>peak_fe_4</th>\n",
       "      <th>epoch_fe_5</th>\n",
       "      <th>peak_fe_5</th>\n",
       "      <th>date</th>\n",
       "    </tr>\n",
       "  </thead>\n",
       "  <tbody>\n",
       "    <tr>\n",
       "      <th>0</th>\n",
       "      <td>1708082103</td>\n",
       "      <td>7326.071062</td>\n",
       "      <td>1708082232</td>\n",
       "      <td>9544.098815</td>\n",
       "      <td>1708082362</td>\n",
       "      <td>11094.202805</td>\n",
       "      <td>1708082492</td>\n",
       "      <td>11924.923728</td>\n",
       "      <td>1708082637</td>\n",
       "      <td>12430.642261</td>\n",
       "      <td>2024-02-17</td>\n",
       "    </tr>\n",
       "  </tbody>\n",
       "</table>\n",
       "</div>"
      ],
      "text/plain": [
       "   epoch_fe_1    peak_fe_1  epoch_fe_2    peak_fe_2  epoch_fe_3     peak_fe_3  \\\n",
       "0  1708082103  7326.071062  1708082232  9544.098815  1708082362  11094.202805   \n",
       "\n",
       "   epoch_fe_4     peak_fe_4  epoch_fe_5     peak_fe_5        date  \n",
       "0  1708082492  11924.923728  1708082637  12430.642261  2024-02-17  "
      ]
     },
     "execution_count": 119,
     "metadata": {},
     "output_type": "execute_result"
    }
   ],
   "source": [
    "dv = sql2df(url=\"http://lnf.infn.it/~mazzitel/php/cygno_sql_query.php?db=tmpTable\")\n",
    "dv = dv.iloc[:, : 10]\n",
    "dv['date']=tn\n",
    "dv"
   ]
  },
  {
   "cell_type": "code",
   "execution_count": 42,
   "id": "d3fab697-4368-4ed2-8190-180f6a67cd38",
   "metadata": {},
   "outputs": [],
   "source": [
    "\n",
    "def self_updete_history(connection, verbose=False):\n",
    "    import datetime\n",
    "    import time\n",
    "    dv = sql2df(url=\"http://lnf.infn.it/~mazzitel/php/cygno_sql_query.php?db=tmpTable\")\n",
    "    img_base64, popt, perr = scan_plt(dv)\n",
    "    if img_base64:\n",
    "        update_sql_value(connection, \"tmpTable\", \"image_scan_fe\", img_base64, verbose)\n",
    "    dv = dv.iloc[:, : 10] \n",
    "    dv['data']=datetime.datetime.fromtimestamp(time.time()).strftime(\"%Y-%m-%d\")\n",
    "    dv['par0']=popt[0]\n",
    "    dv['par1']=popt[1]\n",
    "    if not (push_update_panda_table_sql(connection, 'tmpTableHist', dv, verbose)):\n",
    "        print(\"history updated\")\n",
    "    else:\n",
    "        print(\"ERROR in history updated\")"
   ]
  },
  {
   "cell_type": "code",
   "execution_count": 43,
   "id": "cfc70b29-8c74-4e43-b217-8730d84ec7cf",
   "metadata": {},
   "outputs": [
    {
     "name": "stdout",
     "output_type": "stream",
     "text": [
      "UPDATE `tmpTable` SET `image_scan_fe` = \"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\" WHERE 1;\n",
      "0 Update done\n",
      "INSERT INTO `tmpTableHist` (`epoch_fe_1`,`peak_fe_1`,`epoch_fe_2`,`peak_fe_2`,`epoch_fe_3`,`peak_fe_3`,`epoch_fe_4`,`peak_fe_4`,`epoch_fe_5`,`peak_fe_5`,`data`,`par0`,`par1`) VALUES (%s,%s,%s,%s,%s,%s,%s,%s,%s,%s,%s,%s,%s) ON DUPLICATE KEY UPDATE `epoch_fe_1`='1708166352', `peak_fe_1`='6789.859041804674', `epoch_fe_2`='1708166468', `peak_fe_2`='9357.88766600788', `epoch_fe_3`='1708166617', `peak_fe_3`='11080.928923652593', `epoch_fe_4`='1708166776', `peak_fe_4`='11713.039943688224', `epoch_fe_5`='1708166954', `peak_fe_5`='11992.257546690626', `data`='2024-02-17', `par0`='442051.67466749396', `par1`='699.9275953868909'\n",
      "history updated\n"
     ]
    },
    {
     "data": {
      "image/png": "[encoded data removed]",
      "text/plain": [
       "<Figure size 720x360 with 1 Axes>"
      ]
     },
     "metadata": {},
     "output_type": "display_data"
    }
   ],
   "source": [
    "self_updete_history(connection, verbose=True)"
   ]
  },
  {
   "cell_type": "code",
   "execution_count": 20,
   "id": "b14cf175-85cc-4e64-ba9f-cb6ae74b8744",
   "metadata": {},
   "outputs": [
    {
     "data": {
      "text/plain": [
       "'2024-02-17 00:00:00'"
      ]
     },
     "execution_count": 20,
     "metadata": {},
     "output_type": "execute_result"
    }
   ],
   "source": [
    "import datetime\n",
    "import time\n",
    "datetime.datetime.fromtimestamp(time.time()).strftime('%Y-%m-%d 00:00:00')"
   ]
  },
  {
   "cell_type": "code",
   "execution_count": null,
   "id": "ddf3b188-71fa-4e01-a485-f4c51ca812d6",
   "metadata": {},
   "outputs": [],
   "source": []
  }
 ],
 "metadata": {
  "kernelspec": {
   "display_name": "Python 3",
   "language": "python",
   "name": "python3"
  },
  "language_info": {
   "codemirror_mode": {
    "name": "ipython",
    "version": 3
   },
   "file_extension": ".py",
   "mimetype": "text/x-python",
   "name": "python",
   "nbconvert_exporter": "python",
   "pygments_lexer": "ipython3",
   "version": "3.6.8"
  }
 },
 "nbformat": 4,
 "nbformat_minor": 5
}
