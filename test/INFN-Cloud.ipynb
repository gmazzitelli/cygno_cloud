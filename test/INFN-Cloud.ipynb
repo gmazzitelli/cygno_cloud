{
 "cells": [
  {
   "cell_type": "markdown",
   "id": "complex-stationery",
   "metadata": {},
   "source": [
    "# INFN - Cloud istraction"
   ]
  },
  {
   "cell_type": "markdown",
   "id": "nasty-bankruptcy",
   "metadata": {},
   "source": [
    "- if you do not have an AAI id plese crete credential at https://portale-sisinfo.infn.it/login.php\n",
    "- then plese authenticte on  https://login.cloud.infn.it and aothorize the token\n",
    "- ask to giovanni.mazzitelli@lnf.infn.it for a resorce endpoint (https://192.135.24.136:8888/)"
   ]
  },
  {
   "cell_type": "markdown",
   "id": "considered-entity",
   "metadata": {},
   "source": [
    "- if you use as work area cloud-storage/[username] you can access data on  https://minio.cloud.infn.it/"
   ]
  },
  {
   "cell_type": "code",
   "execution_count": 1,
   "id": "variable-choir",
   "metadata": {},
   "outputs": [
    {
     "name": "stdout",
     "output_type": "stream",
     "text": [
      "Welcome to JupyROOT 6.24/08\n",
      "Open file: /workarea/cloud-storage/cygnus/Data/LAB/histograms_Run04020.root\n"
     ]
    },
    {
     "ename": "OSError",
     "evalue": "Failed to open file /workarea/cloud-storage/cygnus/Data/LAB/histograms_Run04020.root",
     "output_type": "error",
     "traceback": [
      "\u001b[0;31m---------------------------------------------------------------------------\u001b[0m",
      "\u001b[0;31mOSError\u001b[0m                                   Traceback (most recent call last)",
      "\u001b[0;32m<ipython-input-1-e75a463f2d9f>\u001b[0m in \u001b[0;36m<module>\u001b[0;34m\u001b[0m\n\u001b[1;32m      6\u001b[0m \u001b[0;31m# POSIX\u001b[0m\u001b[0;34m\u001b[0m\u001b[0;34m\u001b[0m\u001b[0;34m\u001b[0m\u001b[0m\n\u001b[1;32m      7\u001b[0m \u001b[0mprint\u001b[0m \u001b[0;34m(\u001b[0m\u001b[0;34m'Open file: '\u001b[0m\u001b[0;34m+\u001b[0m\u001b[0mpath\u001b[0m\u001b[0;34m)\u001b[0m\u001b[0;34m\u001b[0m\u001b[0;34m\u001b[0m\u001b[0m\n\u001b[0;32m----> 8\u001b[0;31m \u001b[0mf\u001b[0m \u001b[0;34m=\u001b[0m \u001b[0mROOT\u001b[0m\u001b[0;34m.\u001b[0m\u001b[0mTFile\u001b[0m\u001b[0;34m.\u001b[0m\u001b[0mOpen\u001b[0m\u001b[0;34m(\u001b[0m\u001b[0mpath\u001b[0m\u001b[0;34m)\u001b[0m\u001b[0;34m\u001b[0m\u001b[0;34m\u001b[0m\u001b[0m\n\u001b[0m",
      "\u001b[0;32m/usr/lib64/python3.6/site-packages/ROOT/pythonization/_tfile.py\u001b[0m in \u001b[0;36m_TFileOpen\u001b[0;34m(klass, *args)\u001b[0m\n\u001b[1;32m     65\u001b[0m     \u001b[0;32mif\u001b[0m \u001b[0mf\u001b[0m \u001b[0;34m==\u001b[0m \u001b[0mbind_object\u001b[0m\u001b[0;34m(\u001b[0m\u001b[0;36m0\u001b[0m\u001b[0;34m,\u001b[0m \u001b[0mklass\u001b[0m\u001b[0;34m)\u001b[0m\u001b[0;34m:\u001b[0m\u001b[0;34m\u001b[0m\u001b[0;34m\u001b[0m\u001b[0m\n\u001b[1;32m     66\u001b[0m         \u001b[0;31m# args[0] can be either a string or a TFileOpenHandle\u001b[0m\u001b[0;34m\u001b[0m\u001b[0;34m\u001b[0m\u001b[0;34m\u001b[0m\u001b[0m\n\u001b[0;32m---> 67\u001b[0;31m         \u001b[0;32mraise\u001b[0m \u001b[0mOSError\u001b[0m\u001b[0;34m(\u001b[0m\u001b[0;34m'Failed to open file {}'\u001b[0m\u001b[0;34m.\u001b[0m\u001b[0mformat\u001b[0m\u001b[0;34m(\u001b[0m\u001b[0mstr\u001b[0m\u001b[0;34m(\u001b[0m\u001b[0margs\u001b[0m\u001b[0;34m[\u001b[0m\u001b[0;36m0\u001b[0m\u001b[0;34m]\u001b[0m\u001b[0;34m)\u001b[0m\u001b[0;34m)\u001b[0m\u001b[0;34m)\u001b[0m\u001b[0;34m\u001b[0m\u001b[0;34m\u001b[0m\u001b[0m\n\u001b[0m\u001b[1;32m     68\u001b[0m     \u001b[0;32mreturn\u001b[0m \u001b[0mf\u001b[0m\u001b[0;34m\u001b[0m\u001b[0;34m\u001b[0m\u001b[0m\n\u001b[1;32m     69\u001b[0m \u001b[0;34m\u001b[0m\u001b[0m\n",
      "\u001b[0;31mOSError\u001b[0m: Failed to open file /workarea/cloud-storage/cygnus/Data/LAB/histograms_Run04020.root"
     ]
    }
   ],
   "source": [
    "import ROOT\n",
    "run = 4020\n",
    "tag = \"LAB\"\n",
    "bpath = '/workarea/cloud-storage/cygnus/Data/'\n",
    "path = bpath+tag+'/histograms_Run{:05d}'.format(run)+'.root'\n",
    "# POSIX\n",
    "print ('Open file: '+path)\n",
    "f = ROOT.TFile.Open(path)"
   ]
  },
  {
   "cell_type": "code",
   "execution_count": 3,
   "id": "adult-float",
   "metadata": {},
   "outputs": [
    {
     "name": "stdout",
     "output_type": "stream",
     "text": [
      "Open file: https://s3.cloud.infn.it/v1/AUTH_2ebf769785574195bde2ff418deac08a/cygnus/Data/LAB/histograms_Run04020.root\n"
     ]
    }
   ],
   "source": [
    "run = 4020\n",
    "tag = \"LAB\"\n",
    "# HHTPS\n",
    "burl= 'https://s3.cloud.infn.it/v1/AUTH_2ebf769785574195bde2ff418deac08a/cygnus/Data/'\n",
    "url = burl+tag+'/histograms_Run{:05d}'.format(run)+'.root'\n",
    "print ('Open file: '+url)\n",
    "f = ROOT.TFile.Open(url)"
   ]
  },
  {
   "cell_type": "code",
   "execution_count": null,
   "id": "serious-austin",
   "metadata": {},
   "outputs": [],
   "source": []
  }
 ],
 "metadata": {
  "kernelspec": {
   "display_name": "Python 3",
   "language": "python",
   "name": "python3"
  },
  "language_info": {
   "codemirror_mode": {
    "name": "ipython",
    "version": 3
   },
   "file_extension": ".py",
   "mimetype": "text/x-python",
   "name": "python",
   "nbconvert_exporter": "python",
   "pygments_lexer": "ipython3",
   "version": "3.6.8"
  }
 },
 "nbformat": 4,
 "nbformat_minor": 5
}
