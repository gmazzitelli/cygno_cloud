{
 "cells": [
  {
   "cell_type": "code",
   "execution_count": 1,
   "id": "ae016e7e-ff4c-4646-849b-d9e2785b7f09",
   "metadata": {},
   "outputs": [],
   "source": [
    "import uproot "
   ]
  },
  {
   "cell_type": "code",
   "execution_count": 2,
   "id": "75939092-c275-4eb8-8c71-a5f8a2d7f934",
   "metadata": {},
   "outputs": [],
   "source": [
    "file = uproot.open(\"/jupyter-workspace/cloud-storage/cygno-analysis/RECO/Winter22/reco_run06130_3D.root\")"
   ]
  },
  {
   "cell_type": "code",
   "execution_count": 3,
   "id": "0fabff92-c696-47e1-b728-8f0d39c616f0",
   "metadata": {},
   "outputs": [
    {
     "data": {
      "text/plain": [
       "['Events;1', 'gitHash;1']"
      ]
     },
     "execution_count": 3,
     "metadata": {},
     "output_type": "execute_result"
    }
   ],
   "source": [
    "file.keys()"
   ]
  },
  {
   "cell_type": "code",
   "execution_count": 21,
   "id": "22fcc15e-6aaa-4912-871e-c0de8e93af58",
   "metadata": {},
   "outputs": [
    {
     "ename": "KeyInFileError",
     "evalue": "not found: 'events' (with any cycle number)\n\n    Available keys: 'Events;1', 'gitHash;1'\n\nin file /jupyter-workspace/cloud-storage/cygno-analysis/RECO/Winter22/reco_run06130_3D.root",
     "output_type": "error",
     "traceback": [
      "\u001b[0;31m---------------------------------------------------------------------------\u001b[0m",
      "\u001b[0;31mKeyInFileError\u001b[0m                            Traceback (most recent call last)",
      "\u001b[0;32m<ipython-input-21-ea08a60312c1>\u001b[0m in \u001b[0;36m<module>\u001b[0;34m\u001b[0m\n\u001b[0;32m----> 1\u001b[0;31m \u001b[0mevents\u001b[0m \u001b[0;34m=\u001b[0m \u001b[0muproot\u001b[0m\u001b[0;34m.\u001b[0m\u001b[0mopen\u001b[0m\u001b[0;34m(\u001b[0m\u001b[0;34m\"/jupyter-workspace/cloud-storage/cygno-analysis/RECO/Winter22/reco_run06130_3D.root:events\"\u001b[0m\u001b[0;34m)\u001b[0m\u001b[0;34m\u001b[0m\u001b[0;34m\u001b[0m\u001b[0m\n\u001b[0m",
      "\u001b[0;32m/usr/local/lib/python3.6/site-packages/uproot/reading.py\u001b[0m in \u001b[0;36mopen\u001b[0;34m(path, object_cache, array_cache, custom_classes, decompression_executor, interpretation_executor, **options)\u001b[0m\n\u001b[1;32m    152\u001b[0m         \u001b[0;32mreturn\u001b[0m \u001b[0mfile\u001b[0m\u001b[0;34m.\u001b[0m\u001b[0mroot_directory\u001b[0m\u001b[0;34m\u001b[0m\u001b[0;34m\u001b[0m\u001b[0m\n\u001b[1;32m    153\u001b[0m     \u001b[0;32melse\u001b[0m\u001b[0;34m:\u001b[0m\u001b[0;34m\u001b[0m\u001b[0;34m\u001b[0m\u001b[0m\n\u001b[0;32m--> 154\u001b[0;31m         \u001b[0;32mreturn\u001b[0m \u001b[0mfile\u001b[0m\u001b[0;34m.\u001b[0m\u001b[0mroot_directory\u001b[0m\u001b[0;34m[\u001b[0m\u001b[0mobject_path\u001b[0m\u001b[0;34m]\u001b[0m\u001b[0;34m\u001b[0m\u001b[0;34m\u001b[0m\u001b[0m\n\u001b[0m\u001b[1;32m    155\u001b[0m \u001b[0;34m\u001b[0m\u001b[0m\n\u001b[1;32m    156\u001b[0m \u001b[0;34m\u001b[0m\u001b[0m\n",
      "\u001b[0;32m/usr/local/lib/python3.6/site-packages/uproot/reading.py\u001b[0m in \u001b[0;36m__getitem__\u001b[0;34m(self, where)\u001b[0m\n\u001b[1;32m   2105\u001b[0m \u001b[0;34m\u001b[0m\u001b[0m\n\u001b[1;32m   2106\u001b[0m         \u001b[0;32melse\u001b[0m\u001b[0;34m:\u001b[0m\u001b[0;34m\u001b[0m\u001b[0;34m\u001b[0m\u001b[0m\n\u001b[0;32m-> 2107\u001b[0;31m             \u001b[0;32mreturn\u001b[0m \u001b[0mself\u001b[0m\u001b[0;34m.\u001b[0m\u001b[0mkey\u001b[0m\u001b[0;34m(\u001b[0m\u001b[0mwhere\u001b[0m\u001b[0;34m)\u001b[0m\u001b[0;34m.\u001b[0m\u001b[0mget\u001b[0m\u001b[0;34m(\u001b[0m\u001b[0;34m)\u001b[0m\u001b[0;34m\u001b[0m\u001b[0;34m\u001b[0m\u001b[0m\n\u001b[0m\u001b[1;32m   2108\u001b[0m \u001b[0;34m\u001b[0m\u001b[0m\n\u001b[1;32m   2109\u001b[0m     \u001b[0;34m@\u001b[0m\u001b[0mproperty\u001b[0m\u001b[0;34m\u001b[0m\u001b[0;34m\u001b[0m\u001b[0m\n",
      "\u001b[0;32m/usr/local/lib/python3.6/site-packages/uproot/reading.py\u001b[0m in \u001b[0;36mkey\u001b[0;34m(self, where)\u001b[0m\n\u001b[1;32m   2056\u001b[0m         \u001b[0;32melif\u001b[0m \u001b[0mcycle\u001b[0m \u001b[0;32mis\u001b[0m \u001b[0;32mNone\u001b[0m\u001b[0;34m:\u001b[0m\u001b[0;34m\u001b[0m\u001b[0;34m\u001b[0m\u001b[0m\n\u001b[1;32m   2057\u001b[0m             raise uproot.KeyInFileError(\n\u001b[0;32m-> 2058\u001b[0;31m                 \u001b[0mitem\u001b[0m\u001b[0;34m,\u001b[0m \u001b[0mcycle\u001b[0m\u001b[0;34m=\u001b[0m\u001b[0;34m\"any\"\u001b[0m\u001b[0;34m,\u001b[0m \u001b[0mkeys\u001b[0m\u001b[0;34m=\u001b[0m\u001b[0mself\u001b[0m\u001b[0;34m.\u001b[0m\u001b[0mkeys\u001b[0m\u001b[0;34m(\u001b[0m\u001b[0;34m)\u001b[0m\u001b[0;34m,\u001b[0m \u001b[0mfile_path\u001b[0m\u001b[0;34m=\u001b[0m\u001b[0mself\u001b[0m\u001b[0;34m.\u001b[0m\u001b[0m_file\u001b[0m\u001b[0;34m.\u001b[0m\u001b[0mfile_path\u001b[0m\u001b[0;34m\u001b[0m\u001b[0;34m\u001b[0m\u001b[0m\n\u001b[0m\u001b[1;32m   2059\u001b[0m             )\n\u001b[1;32m   2060\u001b[0m         \u001b[0;32melse\u001b[0m\u001b[0;34m:\u001b[0m\u001b[0;34m\u001b[0m\u001b[0;34m\u001b[0m\u001b[0m\n",
      "\u001b[0;31mKeyInFileError\u001b[0m: not found: 'events' (with any cycle number)\n\n    Available keys: 'Events;1', 'gitHash;1'\n\nin file /jupyter-workspace/cloud-storage/cygno-analysis/RECO/Winter22/reco_run06130_3D.root"
     ]
    }
   ],
   "source": [
    "events = uproot.open(\"/jupyter-workspace/cloud-storage/cygno-analysis/RECO/Winter22/reco_run06130_3D.root:events\")"
   ]
  },
  {
   "cell_type": "code",
   "execution_count": 18,
   "id": "b7a980f4-1d42-4986-82af-218f1714b1ca",
   "metadata": {},
   "outputs": [
    {
     "ename": "AttributeError",
     "evalue": "'ReadOnlyDirectory' object has no attribute 'typenames'",
     "output_type": "error",
     "traceback": [
      "\u001b[0;31m---------------------------------------------------------------------------\u001b[0m",
      "\u001b[0;31mAttributeError\u001b[0m                            Traceback (most recent call last)",
      "\u001b[0;32m<ipython-input-20-5aa97173b1ac>\u001b[0m in \u001b[0;36m<module>\u001b[0;34m\u001b[0m\n\u001b[0;32m----> 1\u001b[0;31m \u001b[0mevents\u001b[0m\u001b[0;34m.\u001b[0m\u001b[0mtypenames\u001b[0m\u001b[0;34m(\u001b[0m\u001b[0;34m)\u001b[0m\u001b[0;34m\u001b[0m\u001b[0;34m\u001b[0m\u001b[0m\n\u001b[0m",
      "\u001b[0;31mAttributeError\u001b[0m: 'ReadOnlyDirectory' object has no attribute 'typenames'"
     ]
    }
   ],
   "source": [
    "file[\"Events\"].typenames()"
   ]
  },
  {
   "cell_type": "code",
   "execution_count": 8,
   "id": "c225a7e3-dbec-4fab-ac8d-9d7b98cd4f78",
   "metadata": {},
   "outputs": [
    {
     "data": {
      "text/plain": [
       "{'Events;1': 'TTree', 'gitHash;1': 'TNamed'}"
      ]
     },
     "execution_count": 8,
     "metadata": {},
     "output_type": "execute_result"
    }
   ],
   "source": [
    "file.classnames()"
   ]
  },
  {
   "cell_type": "code",
   "execution_count": 10,
   "id": "21921be8-d76f-4422-8118-7c8dcd6dadfa",
   "metadata": {},
   "outputs": [
    {
     "data": {
      "text/plain": [
       "{'@fUniqueID': 0,\n",
       " '@fBits': 50331656,\n",
       " 'fName': 'Events',\n",
       " 'fTitle': 'Tree containing reconstructed quantities',\n",
       " 'fLineColor': 602,\n",
       " 'fLineStyle': 1,\n",
       " 'fLineWidth': 1,\n",
       " 'fFillColor': 0,\n",
       " 'fFillStyle': 1001,\n",
       " 'fMarkerColor': 1,\n",
       " 'fMarkerStyle': 1,\n",
       " 'fMarkerSize': 1.0,\n",
       " 'fEntries': 400,\n",
       " 'fTotBytes': 29521238,\n",
       " 'fZipBytes': 8082017,\n",
       " 'fSavedBytes': 0,\n",
       " 'fFlushedBytes': 0,\n",
       " 'fWeight': 1.0,\n",
       " 'fTimerInterval': 0,\n",
       " 'fScanField': 25,\n",
       " 'fUpdate': 0,\n",
       " 'fDefaultEntryOffsetLen': 1000,\n",
       " 'fNClusterRange': 0,\n",
       " 'fMaxEntries': 1000000000000,\n",
       " 'fMaxEntryLoop': 1000000000000,\n",
       " 'fMaxVirtualSize': 0,\n",
       " 'fAutoSave': -300000000,\n",
       " 'fAutoFlush': -30000000,\n",
       " 'fEstimate': 1000000,\n",
       " 'fClusterRangeEnd': array([], dtype=int64),\n",
       " 'fClusterSize': array([], dtype=int64),\n",
       " 'fIOFeatures': <ROOT::TIOFeatures at 0x7fb671e49748>,\n",
       " 'fBranches': <TObjArray of 48 items at 0x7fb671e49e10>,\n",
       " 'fLeaves': <TObjArray of 48 items at 0x7fb6713b6470>,\n",
       " 'fAliases': None}"
      ]
     },
     "execution_count": 10,
     "metadata": {},
     "output_type": "execute_result"
    }
   ],
   "source": [
    "file[\"Events\"].all_members"
   ]
  },
  {
   "cell_type": "code",
   "execution_count": 13,
   "id": "8a8cb8b4-13aa-4012-ae19-ac23d196e395",
   "metadata": {},
   "outputs": [
    {
     "data": {
      "text/plain": [
       "{'@fUniqueID': 0,\n",
       " '@fBits': 50331648,\n",
       " 'fName': 'gitHash',\n",
       " 'fTitle': \"b'c1a7bad05fb5598ccf88cae579d7c16508a2e1d8\\\\n'\"}"
      ]
     },
     "execution_count": 13,
     "metadata": {},
     "output_type": "execute_result"
    }
   ],
   "source": [
    "file[\"gitHash\"].all_members"
   ]
  },
  {
   "cell_type": "code",
   "execution_count": null,
   "id": "02bf7ec4-2227-4427-9391-66c119171512",
   "metadata": {},
   "outputs": [],
   "source": []
  }
 ],
 "metadata": {
  "kernelspec": {
   "display_name": "Python 3",
   "language": "python",
   "name": "python3"
  },
  "language_info": {
   "codemirror_mode": {
    "name": "ipython",
    "version": 3
   },
   "file_extension": ".py",
   "mimetype": "text/x-python",
   "name": "python",
   "nbconvert_exporter": "python",
   "pygments_lexer": "ipython3",
   "version": "3.6.8"
  }
 },
 "nbformat": 4,
 "nbformat_minor": 5
}
